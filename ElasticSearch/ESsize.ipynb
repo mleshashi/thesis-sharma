{
 "cells": [
  {
   "cell_type": "code",
   "execution_count": 1,
   "metadata": {},
   "outputs": [
    {
     "name": "stdout",
     "output_type": "stream",
     "text": [
      "Index 'documents' exists. Size: 6.68 GB.\n",
      "Index 'imagedocuments' does not exist.\n",
      "Index 'docutrail' does not exist.\n",
      "Index 'clipdocuments' does not exist.\n"
     ]
    }
   ],
   "source": [
    "from elasticsearch import Elasticsearch\n",
    "\n",
    "# Initialize Elasticsearch client\n",
    "es = Elasticsearch([\"http://localhost:9200\"])\n",
    "\n",
    "# Define the indices you want to check\n",
    "indices = [\"documents\", \"imagedocuments\", \"docutrail\",\"clipdocuments\"]  # Replace with your actual index names\n",
    "\n",
    "# Function to check if an index exists\n",
    "def index_exists(index_name):\n",
    "    return es.indices.exists(index=index_name)\n",
    "\n",
    "# Function to get the size of documents in an index in GB\n",
    "def get_index_size_gb(index_name):\n",
    "    if index_exists(index_name):\n",
    "        index_stats = es.indices.stats(index=index_name)\n",
    "        if index_name in index_stats['indices']:\n",
    "            size_bytes = index_stats['indices'][index_name]['total']['store']['size_in_bytes']\n",
    "            size_gb = size_bytes / (1024 ** 3)  # Convert bytes to GB\n",
    "            return size_gb\n",
    "    return 0\n",
    "\n",
    "# Check existence and size of each index in GB\n",
    "for index in indices:\n",
    "    exists = index_exists(index)\n",
    "    size_gb = get_index_size_gb(index)\n",
    "    if exists:\n",
    "        print(f\"Index '{index}' exists. Size: {size_gb:.2f} GB.\")\n",
    "    else:\n",
    "        print(f\"Index '{index}' does not exist.\")"
   ]
  },
  {
   "cell_type": "code",
   "execution_count": 2,
   "metadata": {},
   "outputs": [
    {
     "name": "stdout",
     "output_type": "stream",
     "text": [
      "{'documents': {'mappings': {'properties': {'content': {'type': 'text'}, 'image_data': {'type': 'text'}, 'mistral_embedding': {'type': 'dense_vector', 'dims': 4096, 'index': True, 'similarity': 'cosine', 'index_options': {'type': 'int8_hnsw', 'm': 16, 'ef_construction': 100}}, 'title': {'type': 'text'}}}}}\n"
     ]
    }
   ],
   "source": [
    "from elasticsearch import Elasticsearch\n",
    "\n",
    "# Initialize Elasticsearch client\n",
    "es = Elasticsearch([\"http://localhost:9200\"])\n",
    "\n",
    "# Index name\n",
    "index_name = 'documents'\n",
    "\n",
    "# Get the mapping of the index\n",
    "mapping = es.indices.get_mapping(index=index_name)\n",
    "\n",
    "# Print the mapping information\n",
    "print(mapping)"
   ]
  },
  {
   "cell_type": "code",
   "execution_count": null,
   "metadata": {},
   "outputs": [],
   "source": [
    "# to check the index and it's size: curl -X GET \"http://localhost:9200/_cat/indices?v\"\n",
    "# delete the index: curl -X DELETE \"http://localhost:9200/index_name\""
   ]
  },
  {
   "cell_type": "code",
   "execution_count": 4,
   "metadata": {},
   "outputs": [
    {
     "name": "stdout",
     "output_type": "stream",
     "text": [
      "Mapping update successful: {'acknowledged': True}\n",
      "Updated mapping: {'documents': {'mappings': {'properties': {'content': {'type': 'text'}, 'gte_embedding': {'type': 'dense_vector', 'dims': 3584, 'index': True, 'similarity': 'cosine', 'index_options': {'type': 'int8_hnsw', 'm': 16, 'ef_construction': 100}}, 'image_data': {'type': 'text'}, 'mistral_embedding': {'type': 'dense_vector', 'dims': 4096, 'index': True, 'similarity': 'cosine', 'index_options': {'type': 'int8_hnsw', 'm': 16, 'ef_construction': 100}}, 'title': {'type': 'text'}}}}}\n"
     ]
    }
   ],
   "source": [
    "from elasticsearch import Elasticsearch\n",
    "\n",
    "# Initialize Elasticsearch client\n",
    "es = Elasticsearch([\"http://localhost:9200\"])\n",
    "\n",
    "# Index name\n",
    "index_name = 'documents'\n",
    "\n",
    "# Define the new field mapping\n",
    "new_field_mapping = {\n",
    "    \"properties\": {\n",
    "        \"gte_embedding\": {\n",
    "            \"type\": \"dense_vector\",\n",
    "            \"dims\": 3584\n",
    "        }\n",
    "    }\n",
    "}\n",
    "\n",
    "# Update the mapping of the index\n",
    "try:\n",
    "    response = es.indices.put_mapping(index=index_name, body=new_field_mapping)\n",
    "    print(\"Mapping update successful:\", response)\n",
    "except Exception as e:\n",
    "    print(\"An error occurred while updating mapping:\", str(e))\n",
    "\n",
    "# Get and print the updated mapping to verify\n",
    "updated_mapping = es.indices.get_mapping(index=index_name)\n",
    "print(\"Updated mapping:\", updated_mapping)"
   ]
  },
  {
   "cell_type": "code",
   "execution_count": 1,
   "metadata": {},
   "outputs": [
    {
     "name": "stdout",
     "output_type": "stream",
     "text": [
      "Updated mapping:\n"
     ]
    }
   ],
   "source": [
    "print(\"Updated mapping:\")"
   ]
  }
 ],
 "metadata": {
  "kernelspec": {
   "display_name": "sraEnv",
   "language": "python",
   "name": "python3"
  },
  "language_info": {
   "codemirror_mode": {
    "name": "ipython",
    "version": 3
   },
   "file_extension": ".py",
   "mimetype": "text/x-python",
   "name": "python",
   "nbconvert_exporter": "python",
   "pygments_lexer": "ipython3",
   "version": "3.10.12"
  }
 },
 "nbformat": 4,
 "nbformat_minor": 2
}
