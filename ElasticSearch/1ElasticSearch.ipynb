{
 "cells": [
  {
   "cell_type": "markdown",
   "metadata": {},
   "source": [
    "1. Initializes an Elasticsearch client, defines an index named \"documents\" with custom text analysis and dense vector embeddings, and creates the index with specified mappings and settings. It includes fields for text, base64-encoded images, and multiple dense vector embeddings for AI-based search and retrieval"
   ]
  },
  {
   "cell_type": "code",
   "execution_count": 6,
   "metadata": {},
   "outputs": [
    {
     "data": {
      "text/plain": [
       "ObjectApiResponse({'acknowledged': True, 'shards_acknowledged': True, 'index': 'documents'})"
      ]
     },
     "execution_count": 6,
     "metadata": {},
     "output_type": "execute_result"
    }
   ],
   "source": [
    "from elasticsearch import Elasticsearch\n",
    "\n",
    "# Initialize Elasticsearch client\n",
    "es = Elasticsearch([\"http://localhost:9200\"])\n",
    "\n",
    "# define the index name\n",
    "index_name = \"documents\"\n",
    "\n",
    "# Define settings and mappings with the custom analyzer\n",
    "settings = {\n",
    "    \"settings\": {\n",
    "        \"analysis\": {\n",
    "            \"analyzer\": {\n",
    "                \"custom_english_analyzer\": {\n",
    "                    \"type\": \"custom\",\n",
    "                    \"tokenizer\": \"standard\",\n",
    "                    \"filter\": [\n",
    "                        \"lowercase\",\n",
    "                        \"english_stop\",\n",
    "                    ]\n",
    "                }\n",
    "            },\n",
    "            \"filter\": {\n",
    "                \"english_stop\": {\n",
    "                    \"type\": \"stop\",\n",
    "                    \"stopwords\": \"_english_\" \n",
    "                }\n",
    "            }\n",
    "        }\n",
    "    },\n",
    "    \"mappings\": {\n",
    "        \"properties\": {\n",
    "            \"title\": {\"type\": \"text\", \"analyzer\": \"custom_english_analyzer\"},\n",
    "            \"content\": {\"type\": \"text\", \"analyzer\": \"custom_english_analyzer\"},\n",
    "            \"llava_content\": {\"type\": \"text\", \"analyzer\": \"custom_english_analyzer\"},\n",
    "            \"image_data\": {\"type\": \"text\"},  # Storing Base64-encoded image data\n",
    "            \"gte_embedding\": {\"type\": \"dense_vector\", \"dims\":3584},\n",
    "            \"mistral_embedding\": {\"type\": \"dense_vector\", \"dims\": 4096},\n",
    "            \"image_embedding\": {\"type\": \"dense_vector\", \"dims\": 768},\n",
    "            \"llava_content_embedding\": {\"type\": \"dense_vector\", \"dims\": 4096}\n",
    "        }\n",
    "    }\n",
    "}\n",
    "\n",
    "# Create a new index with these settings (or apply settings when creating the index initially)\n",
    "es.indices.create(index=index_name, body=settings)"
   ]
  },
  {
   "cell_type": "markdown",
   "metadata": {},
   "source": [
    " 2. To check the existence of specified indices, and retrieves their storage size in gigabytes (GB), printing the results for each index. It helps monitor Elasticsearch indices by verifying their presence and estimating their storage usage."
   ]
  },
  {
   "cell_type": "code",
   "execution_count": 1,
   "metadata": {},
   "outputs": [
    {
     "name": "stdout",
     "output_type": "stream",
     "text": [
      "Index 'documents' exists. Size: 9.11 GB.\n",
      "Index 'documents1' does not exist.\n",
      "Index 'docutrail' does not exist.\n",
      "Index 'clipdocuments' does not exist.\n"
     ]
    }
   ],
   "source": [
    "from elasticsearch import Elasticsearch\n",
    "\n",
    "# Initialize Elasticsearch client\n",
    "es = Elasticsearch([\"http://localhost:9200\"])\n",
    "\n",
    "# Define the indices you want to check\n",
    "indices = [\"documents\", \"documents1\", \"docutrail\",\"clipdocuments\"]  # Replace with your actual index names\n",
    "\n",
    "# Function to check if an index exists\n",
    "def index_exists(index_name):\n",
    "    return es.indices.exists(index=index_name)\n",
    "\n",
    "# Function to get the size of documents in an index in GB\n",
    "def get_index_size_gb(index_name):\n",
    "    if index_exists(index_name):\n",
    "        index_stats = es.indices.stats(index=index_name)\n",
    "        if index_name in index_stats['indices']:\n",
    "            size_bytes = index_stats['indices'][index_name]['total']['store']['size_in_bytes']\n",
    "            size_gb = size_bytes / (1024 ** 3)  # Convert bytes to GB\n",
    "            return size_gb\n",
    "    return 0\n",
    "\n",
    "# Check existence and size of each index in GB\n",
    "for index in indices:\n",
    "    exists = index_exists(index)\n",
    "    size_gb = get_index_size_gb(index)\n",
    "    if exists:\n",
    "        print(f\"Index '{index}' exists. Size: {size_gb:.2f} GB.\")\n",
    "    else:\n",
    "        print(f\"Index '{index}' does not exist.\")"
   ]
  },
  {
   "cell_type": "markdown",
   "metadata": {},
   "source": [
    "- (Optional)\n",
    "3. Retrieves the mapping (schema) of the \"documents\" index, displaying its structure and field types. "
   ]
  },
  {
   "cell_type": "code",
   "execution_count": 23,
   "metadata": {},
   "outputs": [
    {
     "name": "stdout",
     "output_type": "stream",
     "text": [
      "{'documents': {'mappings': {'properties': {'content': {'type': 'text', 'analyzer': 'custom_english_analyzer'}, 'gte_embedding': {'type': 'dense_vector', 'dims': 3584, 'index': True, 'similarity': 'cosine', 'index_options': {'type': 'int8_hnsw', 'm': 16, 'ef_construction': 100}}, 'image_data': {'type': 'text'}, 'image_embedding': {'type': 'dense_vector', 'dims': 768, 'index': True, 'similarity': 'cosine', 'index_options': {'type': 'int8_hnsw', 'm': 16, 'ef_construction': 100}}, 'llava_content': {'type': 'text', 'analyzer': 'custom_english_analyzer'}, 'llava_content_embedding': {'type': 'dense_vector', 'dims': 4096, 'index': True, 'similarity': 'cosine', 'index_options': {'type': 'int8_hnsw', 'm': 16, 'ef_construction': 100}}, 'mistral_embedding': {'type': 'dense_vector', 'dims': 4096, 'index': True, 'similarity': 'cosine', 'index_options': {'type': 'int8_hnsw', 'm': 16, 'ef_construction': 100}}, 'title': {'type': 'text', 'analyzer': 'custom_english_analyzer'}}}}}\n"
     ]
    }
   ],
   "source": [
    "from elasticsearch import Elasticsearch\n",
    "\n",
    "# Initialize Elasticsearch client\n",
    "es = Elasticsearch([\"http://localhost:9200\"])\n",
    "\n",
    "# Index name\n",
    "index_name = 'documents'\n",
    "\n",
    "# Get the mapping of the index\n",
    "mapping = es.indices.get_mapping(index=index_name)\n",
    "\n",
    "# Print the mapping information\n",
    "print(mapping)"
   ]
  },
  {
   "cell_type": "code",
   "execution_count": null,
   "metadata": {},
   "outputs": [],
   "source": [
    "# to check the index and it's size: curl -X GET \"http://localhost:9200/_cat/indices?v\"\n",
    "# delete the index: curl -X DELETE \"http://localhost:9200/index_name\""
   ]
  },
  {
   "cell_type": "markdown",
   "metadata": {},
   "source": [
    "- (Optional)\n",
    "4. Updates the mapping of the \"documents\" index by adding a new clip_embedding field as a dense vector with 768 dimensions. Then verify the update by retrieving and printing the updated mapping."
   ]
  },
  {
   "cell_type": "code",
   "execution_count": 3,
   "metadata": {},
   "outputs": [
    {
     "name": "stdout",
     "output_type": "stream",
     "text": [
      "Mapping update successful: {'acknowledged': True}\n",
      "Updated mapping: {'documents': {'mappings': {'properties': {'clip_embedding': {'type': 'dense_vector', 'dims': 768, 'index': True, 'similarity': 'cosine', 'index_options': {'type': 'int8_hnsw', 'm': 16, 'ef_construction': 100}}, 'content': {'type': 'text'}, 'gte_embedding': {'type': 'dense_vector', 'dims': 3584, 'index': True, 'similarity': 'cosine', 'index_options': {'type': 'int8_hnsw', 'm': 16, 'ef_construction': 100}}, 'image_data': {'type': 'text'}, 'mistral_embedding': {'type': 'dense_vector', 'dims': 4096, 'index': True, 'similarity': 'cosine', 'index_options': {'type': 'int8_hnsw', 'm': 16, 'ef_construction': 100}}, 'title': {'type': 'text'}}}}}\n"
     ]
    }
   ],
   "source": [
    "from elasticsearch import Elasticsearch\n",
    "\n",
    "# Initialize Elasticsearch client\n",
    "es = Elasticsearch([\"http://localhost:9200\"])\n",
    "\n",
    "# Index name\n",
    "index_name = 'documents'\n",
    "\n",
    "# Define the new field mapping\n",
    "new_field_mapping = {\n",
    "    \"properties\": {\n",
    "        \"clip_embedding\": {\n",
    "            \"type\": \"dense_vector\",\n",
    "            \"dims\": 768\n",
    "        }\n",
    "    }\n",
    "}\n",
    "\n",
    "# Update the mapping of the index\n",
    "try:\n",
    "    response = es.indices.put_mapping(index=index_name, body=new_field_mapping)\n",
    "    print(\"Mapping update successful:\", response)\n",
    "except Exception as e:\n",
    "    print(\"An error occurred while updating mapping:\", str(e))\n",
    "\n",
    "# Get and print the updated mapping to verify\n",
    "updated_mapping = es.indices.get_mapping(index=index_name)\n",
    "print(\"Updated mapping:\", updated_mapping)"
   ]
  },
  {
   "cell_type": "markdown",
   "metadata": {},
   "source": [
    "- (Optional)"
   ]
  },
  {
   "cell_type": "code",
   "execution_count": 24,
   "metadata": {},
   "outputs": [],
   "source": [
    "import torch\n",
    "import gc\n",
    "\n",
    "def clear_gpu_memory():\n",
    "    # Clear all unused cached memory\n",
    "    torch.cuda.empty_cache()\n",
    "    # Collect garbage to free up memory\n",
    "    gc.collect()\n",
    "\n",
    "# Clear GPU memory\n",
    "clear_gpu_memory()"
   ]
  },
  {
   "cell_type": "markdown",
   "metadata": {},
   "source": [
    "- (Optional)"
   ]
  },
  {
   "cell_type": "code",
   "execution_count": 2,
   "metadata": {},
   "outputs": [
    {
     "data": {
      "text/html": [
       "<div>\n",
       "<style scoped>\n",
       "    .dataframe tbody tr th:only-of-type {\n",
       "        vertical-align: middle;\n",
       "    }\n",
       "\n",
       "    .dataframe tbody tr th {\n",
       "        vertical-align: top;\n",
       "    }\n",
       "\n",
       "    .dataframe thead th {\n",
       "        text-align: right;\n",
       "    }\n",
       "</style>\n",
       "<table border=\"1\" class=\"dataframe\">\n",
       "  <thead>\n",
       "    <tr style=\"text-align: right;\">\n",
       "      <th></th>\n",
       "      <th>Field</th>\n",
       "      <th>Type</th>\n",
       "      <th>Dimensions</th>\n",
       "      <th>Analyzer/Index Options</th>\n",
       "    </tr>\n",
       "  </thead>\n",
       "  <tbody>\n",
       "    <tr>\n",
       "      <th>0</th>\n",
       "      <td>content</td>\n",
       "      <td>text</td>\n",
       "      <td>-</td>\n",
       "      <td>custom_english_analyzer</td>\n",
       "    </tr>\n",
       "    <tr>\n",
       "      <th>1</th>\n",
       "      <td>gte_embedding</td>\n",
       "      <td>dense_vector</td>\n",
       "      <td>3584</td>\n",
       "      <td>cosine (int8_hnsw, m=16, ef_construction=100)</td>\n",
       "    </tr>\n",
       "    <tr>\n",
       "      <th>2</th>\n",
       "      <td>image_data</td>\n",
       "      <td>text</td>\n",
       "      <td>-</td>\n",
       "      <td>-</td>\n",
       "    </tr>\n",
       "    <tr>\n",
       "      <th>3</th>\n",
       "      <td>image_embedding</td>\n",
       "      <td>dense_vector</td>\n",
       "      <td>768</td>\n",
       "      <td>cosine (int8_hnsw, m=16, ef_construction=100)</td>\n",
       "    </tr>\n",
       "    <tr>\n",
       "      <th>4</th>\n",
       "      <td>llava_content</td>\n",
       "      <td>text</td>\n",
       "      <td>-</td>\n",
       "      <td>custom_english_analyzer</td>\n",
       "    </tr>\n",
       "    <tr>\n",
       "      <th>5</th>\n",
       "      <td>llava_content_embedding</td>\n",
       "      <td>dense_vector</td>\n",
       "      <td>4096</td>\n",
       "      <td>cosine (int8_hnsw, m=16, ef_construction=100)</td>\n",
       "    </tr>\n",
       "    <tr>\n",
       "      <th>6</th>\n",
       "      <td>mistral_embedding</td>\n",
       "      <td>dense_vector</td>\n",
       "      <td>4096</td>\n",
       "      <td>cosine (int8_hnsw, m=16, ef_construction=100)</td>\n",
       "    </tr>\n",
       "    <tr>\n",
       "      <th>7</th>\n",
       "      <td>title</td>\n",
       "      <td>text</td>\n",
       "      <td>-</td>\n",
       "      <td>custom_english_analyzer</td>\n",
       "    </tr>\n",
       "  </tbody>\n",
       "</table>\n",
       "</div>"
      ],
      "text/plain": [
       "                     Field          Type Dimensions  \\\n",
       "0                  content          text          -   \n",
       "1            gte_embedding  dense_vector       3584   \n",
       "2               image_data          text          -   \n",
       "3          image_embedding  dense_vector        768   \n",
       "4            llava_content          text          -   \n",
       "5  llava_content_embedding  dense_vector       4096   \n",
       "6        mistral_embedding  dense_vector       4096   \n",
       "7                    title          text          -   \n",
       "\n",
       "                          Analyzer/Index Options  \n",
       "0                        custom_english_analyzer  \n",
       "1  cosine (int8_hnsw, m=16, ef_construction=100)  \n",
       "2                                              -  \n",
       "3  cosine (int8_hnsw, m=16, ef_construction=100)  \n",
       "4                        custom_english_analyzer  \n",
       "5  cosine (int8_hnsw, m=16, ef_construction=100)  \n",
       "6  cosine (int8_hnsw, m=16, ef_construction=100)  \n",
       "7                        custom_english_analyzer  "
      ]
     },
     "execution_count": 2,
     "metadata": {},
     "output_type": "execute_result"
    }
   ],
   "source": [
    "import pandas as pd\n",
    "\n",
    "# Define the structure based on the provided mappings\n",
    "data = {\n",
    "    'Field': ['content', 'gte_embedding', 'image_data', 'image_embedding', 'llava_content', 'llava_content_embedding', 'mistral_embedding', 'title'],\n",
    "    'Type': ['text', 'dense_vector', 'text', 'dense_vector', 'text', 'dense_vector', 'dense_vector', 'text'],\n",
    "    'Dimensions': ['-', '3584', '-', '768', '-', '4096', '4096', '-'],\n",
    "    'Analyzer/Index Options': ['custom_english_analyzer', 'cosine (int8_hnsw, m=16, ef_construction=100)', '-', \n",
    "                               'cosine (int8_hnsw, m=16, ef_construction=100)', 'custom_english_analyzer', \n",
    "                               'cosine (int8_hnsw, m=16, ef_construction=100)', 'cosine (int8_hnsw, m=16, ef_construction=100)', \n",
    "                               'custom_english_analyzer']\n",
    "}\n",
    "\n",
    "# Create a DataFrame to display the table\n",
    "df = pd.DataFrame(data)\n",
    "\n",
    "# Display the table\n",
    "df"
   ]
  },
  {
   "cell_type": "code",
   "execution_count": null,
   "metadata": {},
   "outputs": [],
   "source": []
  }
 ],
 "metadata": {
  "kernelspec": {
   "display_name": "sraEnv",
   "language": "python",
   "name": "python3"
  },
  "language_info": {
   "codemirror_mode": {
    "name": "ipython",
    "version": 3
   },
   "file_extension": ".py",
   "mimetype": "text/x-python",
   "name": "python",
   "nbconvert_exporter": "python",
   "pygments_lexer": "ipython3",
   "version": "3.10.12"
  }
 },
 "nbformat": 4,
 "nbformat_minor": 2
}
