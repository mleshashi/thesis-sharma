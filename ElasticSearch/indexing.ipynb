{
 "cells": [
  {
   "cell_type": "code",
   "execution_count": 1,
   "metadata": {},
   "outputs": [
    {
     "name": "stderr",
     "output_type": "stream",
     "text": [
      "/home/mleshashi/thesis-sharma/sraEnv/lib/python3.10/site-packages/tqdm/auto.py:21: TqdmWarning: IProgress not found. Please update jupyter and ipywidgets. See https://ipywidgets.readthedocs.io/en/stable/user_install.html\n",
      "  from .autonotebook import tqdm as notebook_tqdm\n"
     ]
    }
   ],
   "source": [
    "import torch\n",
    "from elasticsearch import Elasticsearch\n",
    "from sentence_transformers import SentenceTransformer\n",
    "import numpy as np\n",
    "import pandas as pd\n",
    "import hashlib\n",
    "from tqdm import tqdm\n",
    "import os\n",
    "import base64\n",
    "from PIL import Image\n",
    "import io"
   ]
  },
  {
   "cell_type": "code",
   "execution_count": 2,
   "metadata": {},
   "outputs": [],
   "source": [
    "# Ensure the entire text in each cell is displayed without truncation\n",
    "pd.set_option('display.max_colwidth', None)\n",
    "\n",
    "# Adjusting display width might not be necessary depending on your pandas version, but it's here for completeness\n",
    "pd.set_option('display.width', None)\n",
    "\n",
    "pew = pd.read_csv('../dataset/pew_dataset/metadata.csv')\n",
    "pew['imgPath'] = pew['imgPath'].str.replace('imgs', '../dataset/pew_dataset/pew_imgs')\n",
    "statista = pd.read_csv('../dataset/statista_dataset/metadata.csv')\n",
    "statista['imgPath'] = statista['imgPath'].str.replace('out/two_col/imgs', '../dataset/statista_dataset/statista_imgs')"
   ]
  },
  {
   "cell_type": "code",
   "execution_count": 3,
   "metadata": {},
   "outputs": [],
   "source": [
    "columns = ['title','caption','imgPath']\n",
    "# Filtering the DataFrame to include only the specified columns\n",
    "pew_df = pew[columns]\n",
    "statista_df = statista[columns]\n",
    "combined_df = pd.concat([pew_df, statista_df], ignore_index=True)"
   ]
  },
  {
   "cell_type": "code",
   "execution_count": 4,
   "metadata": {},
   "outputs": [
    {
     "data": {
      "text/html": [
       "<div>\n",
       "<style scoped>\n",
       "    .dataframe tbody tr th:only-of-type {\n",
       "        vertical-align: middle;\n",
       "    }\n",
       "\n",
       "    .dataframe tbody tr th {\n",
       "        vertical-align: top;\n",
       "    }\n",
       "\n",
       "    .dataframe thead th {\n",
       "        text-align: right;\n",
       "    }\n",
       "</style>\n",
       "<table border=\"1\" class=\"dataframe\">\n",
       "  <thead>\n",
       "    <tr style=\"text-align: right;\">\n",
       "      <th></th>\n",
       "      <th>title</th>\n",
       "      <th>caption</th>\n",
       "      <th>imgPath</th>\n",
       "    </tr>\n",
       "  </thead>\n",
       "  <tbody>\n",
       "    <tr>\n",
       "      <th>0</th>\n",
       "      <td>Foreign-born population in the United States, 1850-2018</td>\n",
       "      <td>The foreign-born population residing in the U.S. reached a record 44.8 million, or 13.7% of the U.S. population, in 2018. This immigrant population has more than quadrupled since the 1960s, when the 1965 Immigration and Naturalization Act took effect. Though growth has begun to slow in recent years, the number of immigrants living in the United States is projected to almost double by 2065.</td>\n",
       "      <td>../dataset/pew_dataset/pew_imgs/1.png</td>\n",
       "    </tr>\n",
       "    <tr>\n",
       "      <th>1</th>\n",
       "      <td>English proficiency among U.S. immigrants, 1980-2018</td>\n",
       "      <td>Since 1980, the share of immigrants who are proficient in English (those who speak only English at home or speak English at least “very well”) has declined, though it has increased slightly in recent years. This decline has been driven entirely by those who speak only English at home, which fell from 30% of immigrants ages 5 and older in 1980 to 17% in 2018. The share who speaks English “very well,” meanwhile, has increased slightly, from 27% to 37% over the same time period.</td>\n",
       "      <td>../dataset/pew_dataset/pew_imgs/2.png</td>\n",
       "    </tr>\n",
       "    <tr>\n",
       "      <th>2</th>\n",
       "      <td>Languages spoken among U.S. immigrants, 2018</td>\n",
       "      <td>Among the nation’s immigrants, Spanish is by far the most spoken non-English language (42% of immigrants say they speak Spanish at home), but it is not the only non-English language spoken by immigrants. Some 6% of immigrants speak Chinese (including Mandarin and Cantonese), 5% speak Hindi or a related language, 4% speak Filipino or Tagalog, 3% speak Vietnamese, 3% speak French and 2% speak Dravidian.</td>\n",
       "      <td>../dataset/pew_dataset/pew_imgs/3.png</td>\n",
       "    </tr>\n",
       "    <tr>\n",
       "      <th>3</th>\n",
       "      <td>Hispanic population in the U.S., 2000-2017</td>\n",
       "      <td>There were nearly 60 million Latinos in the United States in 2017, accounting for approximately 18% of the total U.S. population. In 1980, with a population of 14.8 million, Hispanics made up just 6.5% of the total U.S. population. For more, read the accompanying blog post, “Key facts about U.S. Hispanics and their diverse heritage.” For facts on the foreign-born population in the United States, see our profile on U.S. immigrants.</td>\n",
       "      <td>../dataset/pew_dataset/pew_imgs/4.png</td>\n",
       "    </tr>\n",
       "    <tr>\n",
       "      <th>4</th>\n",
       "      <td>Weekly broadcast audience for top 20 NPR-affiliated radio stations</td>\n",
       "      <td>The top 20 NPR-affiliated public radio stations (by listenership) had on average a total weekly listenership of about 11 million in 2018, about the same as in 2017. (This includes listeners of NPR programming as well as original or other syndicated content aired on these stations.)</td>\n",
       "      <td>../dataset/pew_dataset/pew_imgs/5.png</td>\n",
       "    </tr>\n",
       "    <tr>\n",
       "      <th>...</th>\n",
       "      <td>...</td>\n",
       "      <td>...</td>\n",
       "      <td>...</td>\n",
       "    </tr>\n",
       "    <tr>\n",
       "      <th>29349</th>\n",
       "      <td>\\r\\n                        Distribution of cyber stalking victims in 2013, by marital status\\r\\n</td>\n",
       "      <td>This statistic presents the distribution of cyber stalking victims in 2013, by marital status. According to cases handled by cyber harassment support group WHOA, 52 percent of reporting victims identified themselves as single.</td>\n",
       "      <td>../dataset/statista_dataset/statista_imgs/27864.png</td>\n",
       "    </tr>\n",
       "    <tr>\n",
       "      <th>29350</th>\n",
       "      <td>\\r\\n                        Total number of dwellings in Great Britain from 2003 to 2017 \\r\\n                    \\r\\n                            (in 1,000s)\\r\\n</td>\n",
       "      <td>This statistic displays the total number of dwellings in Great Britain from 2003 to 2017. It can be seen that the number of dwellings in Great Britain increased year on year during the period observed, from approximately 25.16 million dwellings in 2003 to over 27.95 million dwellings in 2017.</td>\n",
       "      <td>../dataset/statista_dataset/statista_imgs/27865.png</td>\n",
       "    </tr>\n",
       "    <tr>\n",
       "      <th>29351</th>\n",
       "      <td>\\r\\n                        Results in the European Parliament elections in the United Kingdom (UK) in 2014, by national party\\r\\n</td>\n",
       "      <td>This statistic shows the political parties and their respective results in the European Parliament Elections in the United Kingdom (UK) in 2014. In 2014, UKIP had 27 percent of the votes.</td>\n",
       "      <td>../dataset/statista_dataset/statista_imgs/27866.png</td>\n",
       "    </tr>\n",
       "    <tr>\n",
       "      <th>29352</th>\n",
       "      <td>\\r\\n                        Average annual expenditure on curtains and draperies per consumer unit in the United States from 2007 to 2019 (in U.S. dollars)*\\r\\n</td>\n",
       "      <td>This statistic shows the average annual expenditure on curtains and draperies per consumer unit in the United States from 2007 to 2019. In 2019, the country's average expenditure on curtains and draperies amounted to 13.58 U.S. dollars per consumer unit.</td>\n",
       "      <td>../dataset/statista_dataset/statista_imgs/27867.png</td>\n",
       "    </tr>\n",
       "    <tr>\n",
       "      <th>29353</th>\n",
       "      <td>\\r\\n                        Number of Volkswagen Passat registered cars in Great Britain from 2000 to 2018\\r\\n</td>\n",
       "      <td>This statistic illustrates the number of Volkswagen Passat cars registered in Great Britain from the fourth quarter of 2000 to 2018. The figures represent a running cumulative total. The number of registered cars continuously grew from approximately 177.5 thousand to 343.2 vehicles between 2000 and 2011. From 2012 to 2018, the number of registered Passat's steadily decreased. As of 2018, there were 282 thousand Volkswagen Passat vehicles.</td>\n",
       "      <td>../dataset/statista_dataset/statista_imgs/27868.png</td>\n",
       "    </tr>\n",
       "  </tbody>\n",
       "</table>\n",
       "<p>29354 rows × 3 columns</p>\n",
       "</div>"
      ],
      "text/plain": [
       "                                                                                                                                                                                          title  \\\n",
       "0                                                                                                                                       Foreign-born population in the United States, 1850-2018   \n",
       "1                                                                                                                                          English proficiency among U.S. immigrants, 1980-2018   \n",
       "2                                                                                                                                                  Languages spoken among U.S. immigrants, 2018   \n",
       "3                                                                                                                                                    Hispanic population in the U.S., 2000-2017   \n",
       "4                                                                                                                            Weekly broadcast audience for top 20 NPR-affiliated radio stations   \n",
       "...                                                                                                                                                                                         ...   \n",
       "29349                                                                     \\r\\n                        Distribution of cyber stalking victims in 2013, by marital status\\r\\n                       \n",
       "29350  \\r\\n                        Total number of dwellings in Great Britain from 2003 to 2017 \\r\\n                    \\r\\n                            (in 1,000s)\\r\\n                           \n",
       "29351                                    \\r\\n                        Results in the European Parliament elections in the United Kingdom (UK) in 2014, by national party\\r\\n                       \n",
       "29352      \\r\\n                        Average annual expenditure on curtains and draperies per consumer unit in the United States from 2007 to 2019 (in U.S. dollars)*\\r\\n                       \n",
       "29353                                                        \\r\\n                        Number of Volkswagen Passat registered cars in Great Britain from 2000 to 2018\\r\\n                       \n",
       "\n",
       "                                                                                                                                                                                                                                                                                                                                                                                                                                                                                                caption  \\\n",
       "0                                                                                              The foreign-born population residing in the U.S. reached a record 44.8 million, or 13.7% of the U.S. population, in 2018. This immigrant population has more than quadrupled since the 1960s, when the 1965 Immigration and Naturalization Act took effect. Though growth has begun to slow in recent years, the number of immigrants living in the United States is projected to almost double by 2065.   \n",
       "1      Since 1980, the share of immigrants who are proficient in English (those who speak only English at home or speak English at least “very well”) has declined, though it has increased slightly in recent years. This decline has been driven entirely by those who speak only English at home, which fell from 30% of immigrants ages 5 and older in 1980 to 17% in 2018. The share who speaks English “very well,” meanwhile, has increased slightly, from 27% to 37% over the same time period.   \n",
       "2                                                                                  Among the nation’s immigrants, Spanish is by far the most spoken non-English language (42% of immigrants say they speak Spanish at home), but it is not the only non-English language spoken by immigrants. Some 6% of immigrants speak Chinese (including Mandarin and Cantonese), 5% speak Hindi or a related language, 4% speak Filipino or Tagalog, 3% speak Vietnamese, 3% speak French and 2% speak Dravidian.   \n",
       "3                                                    There were nearly 60 million Latinos in the United States in 2017, accounting for approximately 18% of the total U.S. population. In 1980, with a population of 14.8 million, Hispanics made up just 6.5% of the total U.S. population. For more, read the accompanying blog post, “Key facts about U.S. Hispanics and their diverse heritage.” For facts on the foreign-born population in the United States, see our profile on U.S. immigrants.   \n",
       "4                                                                                                                                                                                                            The top 20 NPR-affiliated public radio stations (by listenership) had on average a total weekly listenership of about 11 million in 2018, about the same as in 2017. (This includes listeners of NPR programming as well as original or other syndicated content aired on these stations.)   \n",
       "...                                                                                                                                                                                                                                                                                                                                                                                                                                                                                                 ...   \n",
       "29349                                                                                                                                                                                                                                                               This statistic presents the distribution of cyber stalking victims in 2013, by marital status. According to cases handled by cyber harassment support group WHOA, 52 percent of reporting victims identified themselves as single.    \n",
       "29350                                                                                                                                                                                            This statistic displays the total number of dwellings in Great Britain from 2003 to 2017. It can be seen that the number of dwellings in Great Britain increased year on year during the period observed, from approximately 25.16 million dwellings in 2003 to over 27.95 million dwellings in 2017.    \n",
       "29351                                                                                                                                                                                                                                                                                                      This statistic shows the political parties and their respective results in the European Parliament Elections in the United Kingdom (UK) in 2014. In 2014, UKIP had 27 percent of the votes.    \n",
       "29352                                                                                                                                                                                                                                   This statistic shows the average annual expenditure on curtains and draperies per consumer unit in the United States from 2007 to 2019. In 2019, the country's average expenditure on curtains and draperies amounted to 13.58 U.S. dollars per consumer unit.    \n",
       "29353                                       This statistic illustrates the number of Volkswagen Passat cars registered in Great Britain from the fourth quarter of 2000 to 2018. The figures represent a running cumulative total. The number of registered cars continuously grew from approximately 177.5 thousand to 343.2 vehicles between 2000 and 2011. From 2012 to 2018, the number of registered Passat's steadily decreased. As of 2018, there were 282 thousand Volkswagen Passat vehicles.    \n",
       "\n",
       "                                                   imgPath  \n",
       "0                    ../dataset/pew_dataset/pew_imgs/1.png  \n",
       "1                    ../dataset/pew_dataset/pew_imgs/2.png  \n",
       "2                    ../dataset/pew_dataset/pew_imgs/3.png  \n",
       "3                    ../dataset/pew_dataset/pew_imgs/4.png  \n",
       "4                    ../dataset/pew_dataset/pew_imgs/5.png  \n",
       "...                                                    ...  \n",
       "29349  ../dataset/statista_dataset/statista_imgs/27864.png  \n",
       "29350  ../dataset/statista_dataset/statista_imgs/27865.png  \n",
       "29351  ../dataset/statista_dataset/statista_imgs/27866.png  \n",
       "29352  ../dataset/statista_dataset/statista_imgs/27867.png  \n",
       "29353  ../dataset/statista_dataset/statista_imgs/27868.png  \n",
       "\n",
       "[29354 rows x 3 columns]"
      ]
     },
     "execution_count": 4,
     "metadata": {},
     "output_type": "execute_result"
    }
   ],
   "source": [
    "combined_df"
   ]
  },
  {
   "cell_type": "code",
   "execution_count": 5,
   "metadata": {},
   "outputs": [],
   "source": [
    "# Function to encode image to Base64\n",
    "def image_to_base64(image_path):\n",
    "    with open(image_path, \"rb\") as img_file:\n",
    "        # Read the image file\n",
    "        img_bytes = img_file.read()\n",
    "        # Encode image bytes to Base64\n",
    "        base64_img = base64.b64encode(img_bytes).decode(\"utf-8\")\n",
    "        return base64_img"
   ]
  },
  {
   "cell_type": "code",
   "execution_count": 6,
   "metadata": {},
   "outputs": [],
   "source": [
    "# Correctly formatted URL for a local Elasticsearch instance\n",
    "es = Elasticsearch([\"http://localhost:9200\"])"
   ]
  },
  {
   "cell_type": "code",
   "execution_count": 9,
   "metadata": {},
   "outputs": [],
   "source": [
    "model = SentenceTransformer(\"all-MiniLM-L6-v2\")\n",
    "index_name = \"imagedocuments\""
   ]
  },
  {
   "cell_type": "code",
   "execution_count": 10,
   "metadata": {},
   "outputs": [],
   "source": [
    "if not es.indices.exists(index=index_name):\n",
    "    es.indices.create(index=index_name, body={\n",
    "        \"mappings\": {\n",
    "            \"properties\": {\n",
    "                \"title\": {\"type\": \"text\"},\n",
    "                \"content\": {\"type\": \"text\"},\n",
    "                \"image_data\": {\"type\": \"text\"},  # Storing Base64-encoded image data\n",
    "                \"embedding\": {\"type\": \"dense_vector\", \"dims\": 384}\n",
    "            }\n",
    "        }\n",
    "    })"
   ]
  },
  {
   "cell_type": "code",
   "execution_count": 11,
   "metadata": {},
   "outputs": [
    {
     "name": "stderr",
     "output_type": "stream",
     "text": [
      "100%|██████████| 29354/29354 [08:20<00:00, 58.60it/s]\n"
     ]
    }
   ],
   "source": [
    "# Indexing the documents into embeddings using Elasticsearch with its unique ID, ensuring no duplicates are created.\n",
    "for _, row in tqdm(combined_df.iterrows(), total=combined_df.shape[0]):\n",
    "    # Concatenate title and caption with a space or some delimiter\n",
    "    combined_text = f\"{row['title']}. {row['caption']}\"\n",
    "    \n",
    "    # Generate embedding for the combined text\n",
    "    embedding = model.encode(combined_text).tolist()\n",
    "\n",
    "    # Generate a unique ID for the document using a hash of the title and caption\n",
    "    unique_id = hashlib.sha256(combined_text.encode('utf-8')).hexdigest()\n",
    "    \n",
    "    # Get Base64-encoded image data\n",
    "    image_path = row['imgPath']\n",
    "    base64_image_data = image_to_base64(image_path)\n",
    "    \n",
    "    # Index the document with the combined embedding, image data, and use the unique_id as the document ID\n",
    "    es.index(index=index_name, id=unique_id, body={\n",
    "        \"title\": row['title'],\n",
    "        \"content\": row['caption'],\n",
    "        \"image_data\": base64_image_data,\n",
    "        \"embedding\": embedding\n",
    "    })"
   ]
  },
  {
   "cell_type": "code",
   "execution_count": 12,
   "metadata": {},
   "outputs": [
    {
     "name": "stdout",
     "output_type": "stream",
     "text": [
      "Number of documents in the index: 29348\n"
     ]
    }
   ],
   "source": [
    "doc_count = es.count(index=index_name)['count']\n",
    "print(f\"Number of documents in the index: {doc_count}\")"
   ]
  },
  {
   "cell_type": "code",
   "execution_count": 13,
   "metadata": {},
   "outputs": [],
   "source": [
    "# Assuming initialization and index creation as before\n",
    "topics_df = pd.read_csv('../dataset/topics.csv')\n",
    "\n",
    "# Dictionary to hold total similarity scores for each topic\n",
    "topic_similarity_scores = {}\n",
    "\n",
    "for _, row in topics_df.iterrows():\n",
    "    topic = row['Topic']\n",
    "    topic_embedding = model.encode(topic).tolist()\n",
    "    script_query = {\n",
    "        \"script_score\": {\n",
    "            \"query\": {\"match_all\": {}},\n",
    "            \"script\": {\n",
    "                \"source\": \"cosineSimilarity(params.query_vector, 'embedding') + 1.0\",\n",
    "                \"params\": {\"query_vector\": topic_embedding}\n",
    "            }\n",
    "        }\n",
    "    }\n",
    "    \n",
    "    response = es.search(index=index_name, body={\n",
    "        \"size\": 10000,  # You might want to adjust this size based on your needs\n",
    "        \"query\": script_query,\n",
    "        \"_source\": {\"includes\": [\"title\", \"content\", \"image_data\"]}  # Include the image data in the response\n",
    "    })\n",
    "\n",
    "    # Sum up the scores of all hits for this topic\n",
    "    total_score = sum(hit['_score'] for hit in response['hits']['hits'])\n",
    "    topic_similarity_scores[topic] = total_score\n",
    "\n",
    "    # Rank topics by their total similarity score\n",
    "sorted_topics = sorted(topic_similarity_scores.items(), key=lambda x: x[1], reverse=True)"
   ]
  },
  {
   "cell_type": "code",
   "execution_count": 21,
   "metadata": {},
   "outputs": [
    {
     "name": "stdout",
     "output_type": "stream",
     "text": [
      "Top 10 Relevant Topics Based on Similarity Score:\n",
      "1. Topic: Are gas prices too high?, Total Similarity Score: 12017.70943549993\n",
      "2. Topic: Are social networking sites good for our society?, Total Similarity Score: 11854.20004799998\n",
      "3. Topic: Are social media platforms doing enough to prevent cyberbullying?, Total Similarity Score: 11723.159291899972\n",
      "4. Topic: Should government spending be reduced?, Total Similarity Score: 11606.382903299978\n",
      "5. Topic: Should prescription drugs be advertised directly to consumers?, Total Similarity Score: 11604.013122200024\n",
      "6. Topic: Does legal prostitution increase human trafficking?, Total Similarity Score: 11567.266546400002\n",
      "7. Topic: Is capitalism the best form of economy?, Total Similarity Score: 11557.294478599968\n",
      "8. Topic: Do violent video games contribute to youth violence?, Total Similarity Score: 11515.799558000026\n",
      "9. Topic: Do we need cash?, Total Similarity Score: 11477.134343400057\n",
      "10. Topic: Does lowering the federal corporate income tax rate create jobs?, Total Similarity Score: 11427.947919100014\n",
      "11. Topic: Should social networks be banned?, Total Similarity Score: 11427.496674699933\n",
      "12. Topic: Should we imprison fewer people?, Total Similarity Score: 11385.459194799954\n",
      "13. Topic: Is human activity primarily responsible for global climate change?, Total Similarity Score: 11327.571375299962\n",
      "14. Topic: Should children have mobile phones?, Total Similarity Score: 11320.822283700007\n",
      "15. Topic: Does poverty cause crime?, Total Similarity Score: 11319.941526800027\n",
      "16. Topic: Should Turkey join the EU?, Total Similarity Score: 11300.892071900014\n",
      "17. Topic: Should the press be subsidized?, Total Similarity Score: 11298.18982790002\n",
      "18. Topic: Should blood donations be financially compensated?, Total Similarity Score: 11252.623808399996\n",
      "19. Topic: Should all museums be free of charge?, Total Similarity Score: 11251.689065500002\n",
      "20. Topic: Should the federal minimum wage be increased?, Total Similarity Score: 11244.850112600076\n",
      "21. Topic: Should everyone get a universal basic income?, Total Similarity Score: 11221.319025\n",
      "22. Topic: Should agricultural subsidies be reduced?, Total Similarity Score: 11209.7437212\n",
      "23. Topic: Should the penny stay in circulation?, Total Similarity Score: 11171.493954100073\n",
      "24. Topic: Are gender or racial quotas effective?, Total Similarity Score: 11164.375358799976\n",
      "25. Topic: Should net neutrality be restored?, Total Similarity Score: 11164.323142899964\n",
      "26. Topic: Should Scotland become independent?, Total Similarity Score: 11137.788657699983\n",
      "27. Topic: Should social security be privatized?, Total Similarity Score: 11134.001686400008\n",
      "28. Topic: Should the voting age be lowered?, Total Similarity Score: 11112.775656400034\n",
      "29. Topic: Is genetically modified food unsafe?, Total Similarity Score: 11075.267969099974\n",
      "30. Topic: Should more gun control laws be enacted?, Total Similarity Score: 11024.561058900053\n"
     ]
    }
   ],
   "source": [
    "# Output the top 10 relevant topics\n",
    "print(\"Top 10 Relevant Topics Based on Similarity Score:\")\n",
    "for i, (topic, score) in enumerate(sorted_topics[:30], 1):\n",
    "    print(f\"{i}. Topic: {topic}, Total Similarity Score: {score}\")\n"
   ]
  },
  {
   "cell_type": "code",
   "execution_count": 22,
   "metadata": {},
   "outputs": [
    {
     "name": "stdout",
     "output_type": "stream",
     "text": [
      "Top relevant topics saved to TopRelevant_topics.csv\n"
     ]
    }
   ],
   "source": [
    "# Create a DataFrame with the top relevant topics and their similarity scores\n",
    "top_relevant_topics_df = pd.DataFrame(sorted_topics[:30], columns=['Topic', 'Similarity Score'])\n",
    "# Specify the full path for saving the CSV file\n",
    "csv_path = '../dataset/TopRelevant_topics.csv'\n",
    "# Save the DataFrame to the specified CSV file path\n",
    "top_relevant_topics_df.to_csv(csv_path, index=False)\n",
    "\n",
    "print(\"Top relevant topics saved to TopRelevant_topics.csv\")"
   ]
  },
  {
   "cell_type": "code",
   "execution_count": null,
   "metadata": {},
   "outputs": [],
   "source": []
  }
 ],
 "metadata": {
  "kernelspec": {
   "display_name": "sraEnv",
   "language": "python",
   "name": "python3"
  },
  "language_info": {
   "codemirror_mode": {
    "name": "ipython",
    "version": 3
   },
   "file_extension": ".py",
   "mimetype": "text/x-python",
   "name": "python",
   "nbconvert_exporter": "python",
   "pygments_lexer": "ipython3",
   "version": "3.10.12"
  }
 },
 "nbformat": 4,
 "nbformat_minor": 2
}
