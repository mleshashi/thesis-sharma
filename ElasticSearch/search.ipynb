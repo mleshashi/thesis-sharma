{
 "cells": [
  {
   "cell_type": "code",
   "execution_count": 2,
   "metadata": {},
   "outputs": [
    {
     "name": "stderr",
     "output_type": "stream",
     "text": [
      "/home/mleshashi/thesis-sharma/sraEnv/lib/python3.10/site-packages/tqdm/auto.py:21: TqdmWarning: IProgress not found. Please update jupyter and ipywidgets. See https://ipywidgets.readthedocs.io/en/stable/user_install.html\n",
      "  from .autonotebook import tqdm as notebook_tqdm\n"
     ]
    }
   ],
   "source": [
    "import torch\n",
    "from elasticsearch import Elasticsearch\n",
    "from sentence_transformers import SentenceTransformer\n",
    "import numpy as np\n",
    "import pandas as pd\n",
    "import hashlib\n"
   ]
  },
  {
   "cell_type": "code",
   "execution_count": 3,
   "metadata": {},
   "outputs": [],
   "source": [
    "# Correctly formatted URL for a local Elasticsearch instance\n",
    "es = Elasticsearch([\"http://localhost:9200\"])"
   ]
  },
  {
   "cell_type": "code",
   "execution_count": 4,
   "metadata": {},
   "outputs": [
    {
     "name": "stdout",
     "output_type": "stream",
     "text": [
      "{'cluster_name': 'elasticsearch', 'status': 'yellow', 'timed_out': False, 'number_of_nodes': 1, 'number_of_data_nodes': 1, 'active_primary_shards': 1, 'active_shards': 1, 'relocating_shards': 0, 'initializing_shards': 0, 'unassigned_shards': 1, 'delayed_unassigned_shards': 0, 'number_of_pending_tasks': 0, 'number_of_in_flight_fetch': 0, 'task_max_waiting_in_queue_millis': 0, 'active_shards_percent_as_number': 50.0}\n"
     ]
    }
   ],
   "source": [
    "# Check the health of the cluster\n",
    "health = es.cluster.health()\n",
    "print(health)"
   ]
  },
  {
   "cell_type": "markdown",
   "metadata": {},
   "source": [
    "****Finding the Most Relevant Topics using Pew Dataset****"
   ]
  },
  {
   "cell_type": "code",
   "execution_count": 5,
   "metadata": {},
   "outputs": [],
   "source": [
    "# Ensure the entire text in each cell is displayed without truncation\n",
    "pd.set_option('display.max_colwidth', None)\n",
    "\n",
    "# Adjusting display width might not be necessary depending on your pandas version, but it's here for completeness\n",
    "pd.set_option('display.width', None)\n",
    "\n",
    "# Load your DataFrame\n",
    "pew = pd.read_csv('../dataset/pew_dataset/metadata.csv')\n",
    "columns = ['title','caption']\n",
    "\n",
    "# Filtering the DataFrame to include only the specified columns\n",
    "pew_df = pew[columns]"
   ]
  },
  {
   "cell_type": "code",
   "execution_count": 6,
   "metadata": {},
   "outputs": [
    {
     "data": {
      "text/html": [
       "<div>\n",
       "<style scoped>\n",
       "    .dataframe tbody tr th:only-of-type {\n",
       "        vertical-align: middle;\n",
       "    }\n",
       "\n",
       "    .dataframe tbody tr th {\n",
       "        vertical-align: top;\n",
       "    }\n",
       "\n",
       "    .dataframe thead th {\n",
       "        text-align: right;\n",
       "    }\n",
       "</style>\n",
       "<table border=\"1\" class=\"dataframe\">\n",
       "  <thead>\n",
       "    <tr style=\"text-align: right;\">\n",
       "      <th></th>\n",
       "      <th>title</th>\n",
       "      <th>caption</th>\n",
       "    </tr>\n",
       "  </thead>\n",
       "  <tbody>\n",
       "    <tr>\n",
       "      <th>0</th>\n",
       "      <td>Foreign-born population in the United States, 1850-2018</td>\n",
       "      <td>The foreign-born population residing in the U.S. reached a record 44.8 million, or 13.7% of the U.S. population, in 2018. This immigrant population has more than quadrupled since the 1960s, when the 1965 Immigration and Naturalization Act took effect. Though growth has begun to slow in recent years, the number of immigrants living in the United States is projected to almost double by 2065.</td>\n",
       "    </tr>\n",
       "    <tr>\n",
       "      <th>1</th>\n",
       "      <td>English proficiency among U.S. immigrants, 1980-2018</td>\n",
       "      <td>Since 1980, the share of immigrants who are proficient in English (those who speak only English at home or speak English at least “very well”) has declined, though it has increased slightly in recent years. This decline has been driven entirely by those who speak only English at home, which fell from 30% of immigrants ages 5 and older in 1980 to 17% in 2018. The share who speaks English “very well,” meanwhile, has increased slightly, from 27% to 37% over the same time period.</td>\n",
       "    </tr>\n",
       "    <tr>\n",
       "      <th>2</th>\n",
       "      <td>Languages spoken among U.S. immigrants, 2018</td>\n",
       "      <td>Among the nation’s immigrants, Spanish is by far the most spoken non-English language (42% of immigrants say they speak Spanish at home), but it is not the only non-English language spoken by immigrants. Some 6% of immigrants speak Chinese (including Mandarin and Cantonese), 5% speak Hindi or a related language, 4% speak Filipino or Tagalog, 3% speak Vietnamese, 3% speak French and 2% speak Dravidian.</td>\n",
       "    </tr>\n",
       "    <tr>\n",
       "      <th>3</th>\n",
       "      <td>Hispanic population in the U.S., 2000-2017</td>\n",
       "      <td>There were nearly 60 million Latinos in the United States in 2017, accounting for approximately 18% of the total U.S. population. In 1980, with a population of 14.8 million, Hispanics made up just 6.5% of the total U.S. population. For more, read the accompanying blog post, “Key facts about U.S. Hispanics and their diverse heritage.” For facts on the foreign-born population in the United States, see our profile on U.S. immigrants.</td>\n",
       "    </tr>\n",
       "    <tr>\n",
       "      <th>4</th>\n",
       "      <td>Weekly broadcast audience for top 20 NPR-affiliated radio stations</td>\n",
       "      <td>The top 20 NPR-affiliated public radio stations (by listenership) had on average a total weekly listenership of about 11 million in 2018, about the same as in 2017. (This includes listeners of NPR programming as well as original or other syndicated content aired on these stations.)</td>\n",
       "    </tr>\n",
       "  </tbody>\n",
       "</table>\n",
       "</div>"
      ],
      "text/plain": [
       "                                                                title  \\\n",
       "0             Foreign-born population in the United States, 1850-2018   \n",
       "1                English proficiency among U.S. immigrants, 1980-2018   \n",
       "2                        Languages spoken among U.S. immigrants, 2018   \n",
       "3                          Hispanic population in the U.S., 2000-2017   \n",
       "4  Weekly broadcast audience for top 20 NPR-affiliated radio stations   \n",
       "\n",
       "                                                                                                                                                                                                                                                                                                                                                                                                                                                                                            caption  \n",
       "0                                                                                          The foreign-born population residing in the U.S. reached a record 44.8 million, or 13.7% of the U.S. population, in 2018. This immigrant population has more than quadrupled since the 1960s, when the 1965 Immigration and Naturalization Act took effect. Though growth has begun to slow in recent years, the number of immigrants living in the United States is projected to almost double by 2065.  \n",
       "1  Since 1980, the share of immigrants who are proficient in English (those who speak only English at home or speak English at least “very well”) has declined, though it has increased slightly in recent years. This decline has been driven entirely by those who speak only English at home, which fell from 30% of immigrants ages 5 and older in 1980 to 17% in 2018. The share who speaks English “very well,” meanwhile, has increased slightly, from 27% to 37% over the same time period.  \n",
       "2                                                                              Among the nation’s immigrants, Spanish is by far the most spoken non-English language (42% of immigrants say they speak Spanish at home), but it is not the only non-English language spoken by immigrants. Some 6% of immigrants speak Chinese (including Mandarin and Cantonese), 5% speak Hindi or a related language, 4% speak Filipino or Tagalog, 3% speak Vietnamese, 3% speak French and 2% speak Dravidian.  \n",
       "3                                                There were nearly 60 million Latinos in the United States in 2017, accounting for approximately 18% of the total U.S. population. In 1980, with a population of 14.8 million, Hispanics made up just 6.5% of the total U.S. population. For more, read the accompanying blog post, “Key facts about U.S. Hispanics and their diverse heritage.” For facts on the foreign-born population in the United States, see our profile on U.S. immigrants.  \n",
       "4                                                                                                                                                                                                        The top 20 NPR-affiliated public radio stations (by listenership) had on average a total weekly listenership of about 11 million in 2018, about the same as in 2017. (This includes listeners of NPR programming as well as original or other syndicated content aired on these stations.)  "
      ]
     },
     "execution_count": 6,
     "metadata": {},
     "output_type": "execute_result"
    }
   ],
   "source": [
    "pew_df.head()"
   ]
  },
  {
   "cell_type": "code",
   "execution_count": 7,
   "metadata": {},
   "outputs": [],
   "source": [
    "model = SentenceTransformer(\"all-MiniLM-L6-v2\")"
   ]
  },
  {
   "cell_type": "code",
   "execution_count": 8,
   "metadata": {},
   "outputs": [],
   "source": [
    "index_name = \"documents\""
   ]
  },
  {
   "cell_type": "code",
   "execution_count": 9,
   "metadata": {},
   "outputs": [],
   "source": [
    "if not es.indices.exists(index=index_name):\n",
    "    es.indices.create(index=index_name, body={\n",
    "        \"mappings\": {\n",
    "            \"properties\": {\n",
    "                \"title\": {\"type\": \"text\"},\n",
    "                \"content\": {\"type\": \"text\"},\n",
    "                \"embedding\": {\"type\": \"dense_vector\", \"dims\": 384}\n",
    "            }\n",
    "        }\n",
    "    })"
   ]
  },
  {
   "cell_type": "code",
   "execution_count": 10,
   "metadata": {},
   "outputs": [
    {
     "name": "stdout",
     "output_type": "stream",
     "text": [
      "Index Exists: True\n",
      "{'documents': {'aliases': {}, 'mappings': {'properties': {'content': {'type': 'text'}, 'embedding': {'type': 'dense_vector', 'dims': 384, 'index': True, 'similarity': 'cosine'}, 'title': {'type': 'text'}}}, 'settings': {'index': {'routing': {'allocation': {'include': {'_tier_preference': 'data_content'}}}, 'number_of_shards': '1', 'provided_name': 'documents', 'creation_date': '1709672865336', 'number_of_replicas': '1', 'uuid': '4U_yVTmYTziNKUy-6RPndg', 'version': {'created': '8500010'}}}}}\n"
     ]
    }
   ],
   "source": [
    "# Check if the index exists\n",
    "exists = es.indices.exists(index=index_name)\n",
    "print(f\"Index Exists: {exists}\")\n",
    "\n",
    "# Get index information (settings and mappings)\n",
    "if exists:\n",
    "    index_info = es.indices.get(index=index_name)\n",
    "    print(index_info)"
   ]
  },
  {
   "cell_type": "code",
   "execution_count": 11,
   "metadata": {},
   "outputs": [],
   "source": [
    "for _, row in pew_df.iterrows():\n",
    "    # Concatenate title and caption with a space or some delimiter\n",
    "    combined_text = row['title'] + \". \" + row['caption']\n",
    "    \n",
    "    # Generate embedding for the combined text\n",
    "    embedding = model.encode(combined_text).tolist()\n",
    "\n",
    "    # Generate a unique ID for the document using a hash of the title and caption\n",
    "    unique_id = hashlib.sha256(combined_text.encode('utf-8')).hexdigest()\n",
    "    \n",
    "    # Index the document with the combined embedding and use the unique_id as the document ID\n",
    "    es.index(index=index_name, id=unique_id, body={\n",
    "        \"title\": row['title'],\n",
    "        \"content\": row['caption'],\n",
    "        \"embedding\": embedding\n",
    "    })"
   ]
  },
  {
   "cell_type": "code",
   "execution_count": 12,
   "metadata": {},
   "outputs": [
    {
     "name": "stdout",
     "output_type": "stream",
     "text": [
      "Number of documents in the index: 1480\n"
     ]
    }
   ],
   "source": [
    "doc_count = es.count(index=index_name)['count']\n",
    "print(f\"Number of documents in the index: {doc_count}\")"
   ]
  },
  {
   "cell_type": "code",
   "execution_count": 29,
   "metadata": {},
   "outputs": [],
   "source": [
    "topics_df= pd.read_csv('../dataset/topics.csv')"
   ]
  },
  {
   "cell_type": "code",
   "execution_count": 30,
   "metadata": {},
   "outputs": [
    {
     "data": {
      "text/html": [
       "<div>\n",
       "<style scoped>\n",
       "    .dataframe tbody tr th:only-of-type {\n",
       "        vertical-align: middle;\n",
       "    }\n",
       "\n",
       "    .dataframe tbody tr th {\n",
       "        vertical-align: top;\n",
       "    }\n",
       "\n",
       "    .dataframe thead th {\n",
       "        text-align: right;\n",
       "    }\n",
       "</style>\n",
       "<table border=\"1\" class=\"dataframe\">\n",
       "  <thead>\n",
       "    <tr style=\"text-align: right;\">\n",
       "      <th></th>\n",
       "      <th>Topic</th>\n",
       "    </tr>\n",
       "  </thead>\n",
       "  <tbody>\n",
       "    <tr>\n",
       "      <th>0</th>\n",
       "      <td>Should teachers get tenure?</td>\n",
       "    </tr>\n",
       "    <tr>\n",
       "      <th>1</th>\n",
       "      <td>Is vaping with e-cigarettes safe?</td>\n",
       "    </tr>\n",
       "    <tr>\n",
       "      <th>2</th>\n",
       "      <td>Should insider trading be allowed?</td>\n",
       "    </tr>\n",
       "    <tr>\n",
       "      <th>3</th>\n",
       "      <td>Should corporal punishment be used in schools?</td>\n",
       "    </tr>\n",
       "    <tr>\n",
       "      <th>4</th>\n",
       "      <td>Should social security be privatized?</td>\n",
       "    </tr>\n",
       "    <tr>\n",
       "      <th>...</th>\n",
       "      <td>...</td>\n",
       "    </tr>\n",
       "    <tr>\n",
       "      <th>95</th>\n",
       "      <td>Should government spending be reduced?</td>\n",
       "    </tr>\n",
       "    <tr>\n",
       "      <th>96</th>\n",
       "      <td>Should children beauty contests be banned?</td>\n",
       "    </tr>\n",
       "    <tr>\n",
       "      <th>97</th>\n",
       "      <td>Should the US Electoral college be abolished?</td>\n",
       "    </tr>\n",
       "    <tr>\n",
       "      <th>98</th>\n",
       "      <td>Should social networks be banned?</td>\n",
       "    </tr>\n",
       "    <tr>\n",
       "      <th>99</th>\n",
       "      <td>Do we need cash?</td>\n",
       "    </tr>\n",
       "  </tbody>\n",
       "</table>\n",
       "<p>100 rows × 1 columns</p>\n",
       "</div>"
      ],
      "text/plain": [
       "                                             Topic\n",
       "0                      Should teachers get tenure?\n",
       "1                Is vaping with e-cigarettes safe?\n",
       "2               Should insider trading be allowed?\n",
       "3   Should corporal punishment be used in schools?\n",
       "4            Should social security be privatized?\n",
       "..                                             ...\n",
       "95          Should government spending be reduced?\n",
       "96      Should children beauty contests be banned?\n",
       "97   Should the US Electoral college be abolished?\n",
       "98               Should social networks be banned?\n",
       "99                                Do we need cash?\n",
       "\n",
       "[100 rows x 1 columns]"
      ]
     },
     "execution_count": 30,
     "metadata": {},
     "output_type": "execute_result"
    }
   ],
   "source": [
    "topics_df"
   ]
  },
  {
   "cell_type": "code",
   "execution_count": 31,
   "metadata": {},
   "outputs": [],
   "source": [
    "topics_embeddings = [model.encode(topic) for topic in topics_df['Topic'].values]"
   ]
  },
  {
   "cell_type": "code",
   "execution_count": 41,
   "metadata": {},
   "outputs": [],
   "source": [
    "# Assuming initialization and index creation as before\n",
    "\n",
    "topics_df= pd.read_csv('../dataset/topics.csv')\n",
    "\n",
    "# Dictionary to hold total similarity scores for each topic\n",
    "topic_similarity_scores = {}\n",
    "\n",
    "for _, row in topics_df.iterrows():\n",
    "    topic = row['Topic']\n",
    "    topic_embedding = model.encode(topic).tolist()\n",
    "    script_query = {\n",
    "        \"script_score\": {\n",
    "            \"query\": {\"match_all\": {}},\n",
    "            \"script\": {\n",
    "                \"source\": \"cosineSimilarity(params.query_vector, 'embedding') + 1.0\",\n",
    "                \"params\": {\"query_vector\": topic_embedding}\n",
    "            }\n",
    "        }\n",
    "    }\n",
    "    \n",
    "    response = es.search(index=index_name, body={\n",
    "        \"size\": 2000,  # You might want to adjust this size based on your needs\n",
    "        \"query\": script_query,\n",
    "        \"_source\": {\"excludes\": [\"embedding\"]}\n",
    "    })\n",
    "\n",
    "    # Sum up the scores of all hits for this topic\n",
    "    total_score = sum(hit['_score'] for hit in response['hits']['hits'])\n",
    "    topic_similarity_scores[topic] = total_score"
   ]
  },
  {
   "cell_type": "code",
   "execution_count": 44,
   "metadata": {},
   "outputs": [
    {
     "name": "stdout",
     "output_type": "stream",
     "text": [
      "Top 10 Relevant Topics Based on Similarity Score:\n",
      "Topic: Are social networking sites good for our society?, Total Similarity Score: 1695.5371561500006\n",
      "Topic: Should we imprison fewer people?, Total Similarity Score: 1677.8149067599988\n",
      "Topic: Are gender or racial quotas effective?, Total Similarity Score: 1661.0595735099998\n",
      "Topic: Does legal prostitution increase human trafficking?, Total Similarity Score: 1659.169556260001\n",
      "Topic: Should the press be subsidized?, Total Similarity Score: 1644.0354750100005\n",
      "Topic: Are social media platforms doing enough to prevent cyberbullying?, Total Similarity Score: 1640.3085283999994\n",
      "Topic: Do violent video games contribute to youth violence?, Total Similarity Score: 1639.0179188699997\n",
      "Topic: Should the voting age be lowered?, Total Similarity Score: 1638.7318199699987\n",
      "Topic: Should everyone get a universal basic income?, Total Similarity Score: 1635.7151426099995\n",
      "Topic: Should social networks be banned?, Total Similarity Score: 1635.01015242\n"
     ]
    }
   ],
   "source": [
    "# Rank topics by their total similarity score\n",
    "sorted_topics = sorted(topic_similarity_scores.items(), key=lambda x: x[1], reverse=True)\n",
    "\n",
    "# Output the top 10 topics based on cumulative similarity scores\n",
    "print(\"Top 10 Relevant Topics Based on Similarity Score:\")\n",
    "for topic, score in sorted_topics[:10]:\n",
    "    print(f\"Topic: {topic}, Total Similarity Score: {score}\")"
   ]
  },
  {
   "cell_type": "code",
   "execution_count": null,
   "metadata": {},
   "outputs": [],
   "source": []
  }
 ],
 "metadata": {
  "kernelspec": {
   "display_name": "sraEnv",
   "language": "python",
   "name": "python3"
  },
  "language_info": {
   "codemirror_mode": {
    "name": "ipython",
    "version": 3
   },
   "file_extension": ".py",
   "mimetype": "text/x-python",
   "name": "python",
   "nbconvert_exporter": "python",
   "pygments_lexer": "ipython3",
   "version": "3.10.12"
  }
 },
 "nbformat": 4,
 "nbformat_minor": 2
}
