{
 "cells": [
  {
   "cell_type": "code",
   "execution_count": 2,
   "metadata": {},
   "outputs": [],
   "source": [
    "import torch\n",
    "from elasticsearch import Elasticsearch\n",
    "from sentence_transformers import SentenceTransformer\n",
    "import numpy as np\n",
    "import pandas as pd\n",
    "import hashlib\n",
    "from tqdm import tqdm\n"
   ]
  },
  {
   "cell_type": "code",
   "execution_count": 3,
   "metadata": {},
   "outputs": [],
   "source": [
    "# Correctly formatted URL for a local Elasticsearch instance\n",
    "es = Elasticsearch([\"http://localhost:9200\"])"
   ]
  },
  {
   "cell_type": "code",
   "execution_count": 4,
   "metadata": {},
   "outputs": [
    {
     "name": "stdout",
     "output_type": "stream",
     "text": [
      "{'cluster_name': 'elasticsearch', 'status': 'yellow', 'timed_out': False, 'number_of_nodes': 1, 'number_of_data_nodes': 1, 'active_primary_shards': 1, 'active_shards': 1, 'relocating_shards': 0, 'initializing_shards': 0, 'unassigned_shards': 1, 'delayed_unassigned_shards': 0, 'number_of_pending_tasks': 0, 'number_of_in_flight_fetch': 0, 'task_max_waiting_in_queue_millis': 0, 'active_shards_percent_as_number': 50.0}\n"
     ]
    }
   ],
   "source": [
    "# Check the health of the cluster\n",
    "health = es.cluster.health()\n",
    "print(health)"
   ]
  },
  {
   "cell_type": "code",
   "execution_count": 5,
   "metadata": {},
   "outputs": [],
   "source": [
    "# Ensure the entire text in each cell is displayed without truncation\n",
    "pd.set_option('display.max_colwidth', None)\n",
    "\n",
    "# Adjusting display width might not be necessary depending on your pandas version, but it's here for completeness\n",
    "pd.set_option('display.width', None)\n",
    "\n",
    "# Load your DataFrame\n",
    "pew = pd.read_csv('../dataset/pew_dataset/metadata.csv')\n",
    "statista = pd.read_csv('../dataset/statista_dataset/metadata.csv')\n",
    "columns = ['title','caption']\n",
    "\n",
    "# Filtering the DataFrame to include only the specified columns\n",
    "pew_df = pew[columns]\n",
    "statista_df = statista[columns]\n",
    "combined_df = pd.concat([pew_df, statista_df], ignore_index=True)"
   ]
  },
  {
   "cell_type": "code",
   "execution_count": 6,
   "metadata": {},
   "outputs": [
    {
     "name": "stdout",
     "output_type": "stream",
     "text": [
      "Number of rows in pew_dataset: 1486\n",
      "Number of rows in statista_df: 27868\n",
      "Number of rows in statista_df: 29354\n"
     ]
    }
   ],
   "source": [
    "print(f\"Number of rows in pew_dataset: {len(pew_df)}\")\n",
    "print(f\"Number of rows in statista_df: {len(statista_df)}\")\n",
    "print(f\"Number of rows in statista_df: {len(combined_df)}\")"
   ]
  },
  {
   "cell_type": "code",
   "execution_count": 7,
   "metadata": {},
   "outputs": [],
   "source": [
    "model = SentenceTransformer(\"all-MiniLM-L6-v2\")"
   ]
  },
  {
   "cell_type": "code",
   "execution_count": 8,
   "metadata": {},
   "outputs": [],
   "source": [
    "index_name = \"documents\""
   ]
  },
  {
   "cell_type": "code",
   "execution_count": 9,
   "metadata": {},
   "outputs": [],
   "source": [
    "if not es.indices.exists(index=index_name):\n",
    "    es.indices.create(index=index_name, body={\n",
    "        \"mappings\": {\n",
    "            \"properties\": {\n",
    "                \"title\": {\"type\": \"text\"},\n",
    "                \"content\": {\"type\": \"text\"},\n",
    "                \"embedding\": {\"type\": \"dense_vector\", \"dims\": 384}\n",
    "            }\n",
    "        }\n",
    "    })"
   ]
  },
  {
   "cell_type": "code",
   "execution_count": 10,
   "metadata": {},
   "outputs": [
    {
     "name": "stdout",
     "output_type": "stream",
     "text": [
      "Index Exists: True\n",
      "{'documents': {'aliases': {}, 'mappings': {'properties': {'content': {'type': 'text'}, 'embedding': {'type': 'dense_vector', 'dims': 384, 'index': True, 'similarity': 'cosine'}, 'title': {'type': 'text'}}}, 'settings': {'index': {'routing': {'allocation': {'include': {'_tier_preference': 'data_content'}}}, 'number_of_shards': '1', 'provided_name': 'documents', 'creation_date': '1709672865336', 'number_of_replicas': '1', 'uuid': '4U_yVTmYTziNKUy-6RPndg', 'version': {'created': '8500010'}}}}}\n"
     ]
    }
   ],
   "source": [
    "# Check if the index exists\n",
    "exists = es.indices.exists(index=index_name)\n",
    "print(f\"Index Exists: {exists}\")\n",
    "\n",
    "# Get index information (settings and mappings)\n",
    "if exists:\n",
    "    index_info = es.indices.get(index=index_name)\n",
    "    print(index_info)"
   ]
  },
  {
   "cell_type": "code",
   "execution_count": 11,
   "metadata": {},
   "outputs": [
    {
     "name": "stderr",
     "output_type": "stream",
     "text": [
      "100%|██████████| 29354/29354 [05:01<00:00, 97.40it/s] \n"
     ]
    }
   ],
   "source": [
    "# indexing the documents into embeddings using Elasticsearch with its unique ID, ensuring no duplicates are created.\n",
    "for _, row in tqdm(combined_df.iterrows(), total=combined_df.shape[0]):\n",
    "    # Concatenate title and caption with a space or some delimiter\n",
    "    combined_text = f\"{row['title']}. {row['caption']}\"\n",
    "    \n",
    "    # Generate embedding for the combined text\n",
    "    embedding = model.encode(combined_text).tolist()\n",
    "\n",
    "    # Generate a unique ID for the document using a hash of the title and caption\n",
    "    unique_id = hashlib.sha256(combined_text.encode('utf-8')).hexdigest()\n",
    "    \n",
    "    # Index the document with the combined embedding and use the unique_id as the document ID\n",
    "    es.index(index=index_name, id=unique_id, body={\n",
    "        \"title\": row['title'],\n",
    "        \"content\": row['caption'],\n",
    "        \"embedding\": embedding\n",
    "    })"
   ]
  },
  {
   "cell_type": "code",
   "execution_count": 12,
   "metadata": {},
   "outputs": [
    {
     "name": "stdout",
     "output_type": "stream",
     "text": [
      "Number of documents in the index: 29348\n"
     ]
    }
   ],
   "source": [
    "doc_count = es.count(index=index_name)['count']\n",
    "print(f\"Number of documents in the index: {doc_count}\")"
   ]
  },
  {
   "cell_type": "code",
   "execution_count": 21,
   "metadata": {},
   "outputs": [],
   "source": [
    "import random\n",
    "# Load topics from a CSV file (assuming the CSV has a column named 'Topic')\n",
    "topics_df= pd.read_csv('../dataset/topics.csv')\n",
    "# Select a random topic\n",
    "random_topic = random.choice(topics_df['Topic'].to_list())"
   ]
  },
  {
   "cell_type": "code",
   "execution_count": 26,
   "metadata": {},
   "outputs": [],
   "source": [
    "random_topic='Are gas prices too high?'"
   ]
  },
  {
   "cell_type": "code",
   "execution_count": 27,
   "metadata": {},
   "outputs": [],
   "source": [
    "# Encode the selected topic to get its embedding\n",
    "topic_embedding = model.encode(random_topic).tolist()"
   ]
  },
  {
   "cell_type": "code",
   "execution_count": 28,
   "metadata": {},
   "outputs": [],
   "source": [
    "# Elasticsearch query to find relevant documents based on cosine similarity\n",
    "script_query = {\n",
    "    \"script_score\": {\n",
    "        \"query\": {\"match_all\": {}},\n",
    "        \"script\": {\n",
    "            \"source\": \"cosineSimilarity(params.query_vector, 'embedding') + 1.0\",\n",
    "            \"params\": {\"query_vector\": topic_embedding}\n",
    "        }\n",
    "    }\n",
    "}\n",
    "    \n",
    "# Execute the search query\n",
    "response = es.search(index=index_name, body={\n",
    "    \"size\": 6,  # Fetch top 5 relevant documents\n",
    "    \"query\": script_query,\n",
    "    \"_source\": [\"title\", \"content\"]  # Adjust fields based on your document structure\n",
    "})"
   ]
  },
  {
   "cell_type": "code",
   "execution_count": 29,
   "metadata": {},
   "outputs": [
    {
     "name": "stdout",
     "output_type": "stream",
     "text": [
      "Top 5 relevant documents for the topic 'Are gas prices too high?':\n",
      "\n",
      "1. Title: \n",
      "                        Average quarterly retail price of regular gasoline in the United States between 1st quarter of 2015 and 1st quarter of 2020 (in U.S. dollars per gallon)*\n",
      "                    \n",
      "   Content:  A glut in oil supply between 2014 and 2016 forced down prices and led to a low average U.S. gasoline price of roughly 1.9 U.S. dollars per gallon in the first quarter. Gasoline prices fluctuated considerably between 2019 and 2020 as a result of tensions between the United States and other oil exporters, such as Iran, and stifling oil demand during the COVID-19 pandemic. The price of West Texas Intermediate briefly dipped in the negative in April 2020. Seasonal price variations There are periodic fluctuations in gasoline prices in the United States, where the second and third quarters are typically more expensive than the rest of the year. One of the factors contributing to changing gasoline prices is a decrease in production from refineries due to maintenance work in tandem with an increase in demand, as holiday goers make road-trips. Gasoline will revert to cheaper winter-grade in September. Annual motor vehicle consumption in the United States is around 145 billion gallons. \n",
      "   Score: 1.6092079\n",
      "\n",
      "2. Title: What Is the Main Reason Gas \n",
      "   Content: About three-in-ten (31%) offer a variation on this theme – greed, oil companies or speculation – when asked what they think is the main reason gasoline prices have gone up recently, according to a Pew Research Center/Washington Post survey conducted April 28-May 1 among 1,006 adults.\n",
      "Roughly two-in-ten (19%) cite the ongoing wars or unrest in Libya and elsewhere in the Middle East as the top reason for rising fuel prices. Another 14% attribute this to politics or national policies.\n",
      "   Score: 1.6042688\n",
      "\n",
      "3. Title: \n",
      "                        Average gasoline price per liter in selected countries in June 2020 \n",
      "                    \n",
      "                            (in U.S. dollars)\n",
      "                        \n",
      "   Content:  In June 2020, the gasoline price per liter in the United States stood at 0.55 U.S. dollars, the cheapest among the selected eight countries. However, this is a considerable price change compared to June 2019, when figures were 23.4 percent higher. Italy recorded the highest fuel price of all countries listed here, at 1.56 U.S. dollars per liter. The prices concern unleaded premium (95 RON) for France, Germany, Italy, Spain, and the United Kingdom and regular unleaded for Canada, Japan, and the United States (AKI 87). Liquid fuels demand decline following coronavirus Final gasoline prices result from crude oil charges, processing and distribution costs, and taxes and underly supply and demand. The ongoing coronavirus pandemic (COVID-19) has reduced the demand for fuel and in turn impacted petroleum prices worldwide. The U.S. liquid fuels demand in the road sector is expected to have decreased to 8.7 million barrels per day in the second quarter of 2020. As a result, U.S. monthly crude oil production dropped across all regions between March and August 2020. Diesel prices worldwide Italy also has the greatest tag on diesel prices among the above listed countries. As of that same month, the price for automotive diesel stood at 1.43 U.S. dollars per liter in the Southern European country. Diesel prices tend to be lower than gasoline prices, with the United Kingdom and the U.S. proving to be the exception. \n",
      "   Score: 1.5998629\n",
      "\n",
      "4. Title: \n",
      "                        Residential sector natural gas prices in the U.S. from 1975 to 2019 (in nominal U.S. dollars per 1,000 cubic feet)*\n",
      "                    \n",
      "   Content:  The statistic represents the average natural gas prices to residential customers in the United States from 1975 to 2019. In 2019, the residential natural gas price in the United States stood at 10.60 U.S. dollars per thousand cubic feet. \n",
      "   Score: 1.5806764\n",
      "\n",
      "5. Title: \n",
      "                        Change in the price of gasoline per liter in selected countries from June 2019 to June 2020\n",
      "                    \n",
      "   Content:  This statistic shows the change in the price of gasoline per liter in selected countries for the period between June 2019 and June 2020. The price changes concern unleaded premium (95 RON) for France, Germany, Italy, Spain, and the United Kingdom, and regular unleaded for Canada, Japan, and the United States (AKI 87). RON stands for Research Octane Number, while AKI means Anti-Knock Index. Both represent the most common octane rating in the countries shown. In June 2020, the gasoline price per liter in the U.S. was 23.4 percent lower than it was in June 2019. Influences on gasoline prices The price of gasoline is a frequently discussed issue, and is a part of almost everybodyâ€™s life in developed countries. Gasoline prices worldwide are dependent of a number of factors: crude oil prices, costs for processing and distribution, demand, strength of currencies, taxation, and availability. The most influential factor is the crude oil price. This price includes the costs for exploration, extraction, and transport. What the consumer pays in the end is also an issue of national oil pricing policy. Typical regions with high taxes on gasoline are European countries and Japan. Other countries keep consumer prices low by subsidizing the costs for gasoline. Among latter countries are the United States, Saudi Arabia, Iran, Venezuela, Egypt, Malaysia, Bolivia, and others. There are many other factors, however, which directly influence the price of gasoline. Wars, crises, and natural disasters in oil producing regions, for example, can obstruct the production and transportation, and thus cause higher crude oil prices. Last but not least, the end-consumer defines the price through his or her demand. A higher number of people driving cars means higher prices for gasoline, which is often the case in the summer months or holiday seasons. \n",
      "   Score: 1.5776899\n",
      "\n",
      "6. Title: \n",
      "                        Average consumer price for natural gas in the United States from winter of 2005/06 to winter of 2020/21 (in U.S. dollars per 1,000 cubic feet)*\n",
      "                    \n",
      "   Content:  During the winter of 2020/21, U.S. consumers are expected to pay an average of 9.55 U.S. dollars per thousand cubic feet of natural gas. This would mean a decrease compared to the previous winter and in line with a general trend of cheaper natural gas prices. \n",
      "   Score: 1.5743707\n",
      "\n"
     ]
    }
   ],
   "source": [
    "# Extract and print the top 5 relevant documents\n",
    "print(f\"Top 5 relevant documents for the topic '{random_topic}':\\n\")\n",
    "\n",
    "for i, hit in enumerate(response['hits']['hits'], start=1):\n",
    "    doc = hit['_source']\n",
    "    print(f\"{i}. Title: {doc['title']}\\n   Content: {doc['content']}\\n   Score: {hit['_score']}\\n\")"
   ]
  },
  {
   "cell_type": "code",
   "execution_count": null,
   "metadata": {},
   "outputs": [],
   "source": []
  }
 ],
 "metadata": {
  "kernelspec": {
   "display_name": "sraEnv",
   "language": "python",
   "name": "python3"
  },
  "language_info": {
   "codemirror_mode": {
    "name": "ipython",
    "version": 3
   },
   "file_extension": ".py",
   "mimetype": "text/x-python",
   "name": "python",
   "nbconvert_exporter": "python",
   "pygments_lexer": "ipython3",
   "version": "3.10.12"
  }
 },
 "nbformat": 4,
 "nbformat_minor": 2
}
