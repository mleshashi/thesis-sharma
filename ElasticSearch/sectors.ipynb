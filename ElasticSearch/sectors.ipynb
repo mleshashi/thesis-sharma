{
 "cells": [
  {
   "cell_type": "code",
   "execution_count": 1,
   "metadata": {},
   "outputs": [],
   "source": [
    "import pandas as pd\n",
    "pew_metadata_path = '../dataset/pew_dataset/metadata.csv'\n",
    "\n",
    "# Load the metadata from the Pew dataset\n",
    "pew_data = pd.read_csv(pew_metadata_path)\n",
    "# Drop all columns except 'title' and topic'\n",
    "pew_data = pew_data[['title', 'topic']]"
   ]
  },
  {
   "cell_type": "code",
   "execution_count": 3,
   "metadata": {},
   "outputs": [],
   "source": [
    "# Get the distinct list of sectors\n",
    "distinct_sectors = pew_data['topic'].dropna().unique().tolist()"
   ]
  },
  {
   "cell_type": "code",
   "execution_count": 4,
   "metadata": {},
   "outputs": [
    {
     "data": {
      "text/plain": [
       "['Hispanic Trends',\n",
       " 'Journalism & Media',\n",
       " 'Internet & Technology',\n",
       " 'Social & Demographic Trends',\n",
       " 'Global Attributes & Trends',\n",
       " 'Methods',\n",
       " 'U.S. Politics & Policy',\n",
       " 'Coronavirus Disease (COVID-19)',\n",
       " 'Science & Society',\n",
       " 'Economy & Work',\n",
       " 'Uncategorised',\n",
       " 'Religion & Public Life']"
      ]
     },
     "execution_count": 4,
     "metadata": {},
     "output_type": "execute_result"
    }
   ],
   "source": [
    "distinct_sectors"
   ]
  },
  {
   "cell_type": "code",
   "execution_count": 1,
   "metadata": {},
   "outputs": [
    {
     "data": {
      "text/html": [
       "<div>\n",
       "<style scoped>\n",
       "    .dataframe tbody tr th:only-of-type {\n",
       "        vertical-align: middle;\n",
       "    }\n",
       "\n",
       "    .dataframe tbody tr th {\n",
       "        vertical-align: top;\n",
       "    }\n",
       "\n",
       "    .dataframe thead th {\n",
       "        text-align: right;\n",
       "    }\n",
       "</style>\n",
       "<table border=\"1\" class=\"dataframe\">\n",
       "  <thead>\n",
       "    <tr style=\"text-align: right;\">\n",
       "      <th></th>\n",
       "      <th>title</th>\n",
       "      <th>Region</th>\n",
       "    </tr>\n",
       "  </thead>\n",
       "  <tbody>\n",
       "    <tr>\n",
       "      <th>0</th>\n",
       "      <td>\\r\\n                        Number of monthly ...</td>\n",
       "      <td>Worldwide</td>\n",
       "    </tr>\n",
       "    <tr>\n",
       "      <th>1</th>\n",
       "      <td>\\r\\n                        United States: est...</td>\n",
       "      <td>United States</td>\n",
       "    </tr>\n",
       "    <tr>\n",
       "      <th>2</th>\n",
       "      <td>\\r\\n                        Reported violent c...</td>\n",
       "      <td>United States</td>\n",
       "    </tr>\n",
       "    <tr>\n",
       "      <th>3</th>\n",
       "      <td>\\r\\n                        Players with the m...</td>\n",
       "      <td>United States</td>\n",
       "    </tr>\n",
       "    <tr>\n",
       "      <th>4</th>\n",
       "      <td>\\r\\n                        Players with most ...</td>\n",
       "      <td>Europe</td>\n",
       "    </tr>\n",
       "    <tr>\n",
       "      <th>...</th>\n",
       "      <td>...</td>\n",
       "      <td>...</td>\n",
       "    </tr>\n",
       "    <tr>\n",
       "      <th>27863</th>\n",
       "      <td>\\r\\n                        Distribution of cy...</td>\n",
       "      <td>Worldwide, North America</td>\n",
       "    </tr>\n",
       "    <tr>\n",
       "      <th>27864</th>\n",
       "      <td>\\r\\n                        Total number of dw...</td>\n",
       "      <td>United Kingdom (Great Britain)</td>\n",
       "    </tr>\n",
       "    <tr>\n",
       "      <th>27865</th>\n",
       "      <td>\\r\\n                        Results in the Eur...</td>\n",
       "      <td>United Kingdom, EU</td>\n",
       "    </tr>\n",
       "    <tr>\n",
       "      <th>27866</th>\n",
       "      <td>\\r\\n                        Average annual exp...</td>\n",
       "      <td>United States</td>\n",
       "    </tr>\n",
       "    <tr>\n",
       "      <th>27867</th>\n",
       "      <td>\\r\\n                        Number of Volkswag...</td>\n",
       "      <td>United Kingdom (Great Britain)</td>\n",
       "    </tr>\n",
       "  </tbody>\n",
       "</table>\n",
       "<p>27868 rows × 2 columns</p>\n",
       "</div>"
      ],
      "text/plain": [
       "                                                   title  \\\n",
       "0      \\r\\n                        Number of monthly ...   \n",
       "1      \\r\\n                        United States: est...   \n",
       "2      \\r\\n                        Reported violent c...   \n",
       "3      \\r\\n                        Players with the m...   \n",
       "4      \\r\\n                        Players with most ...   \n",
       "...                                                  ...   \n",
       "27863  \\r\\n                        Distribution of cy...   \n",
       "27864  \\r\\n                        Total number of dw...   \n",
       "27865  \\r\\n                        Results in the Eur...   \n",
       "27866  \\r\\n                        Average annual exp...   \n",
       "27867  \\r\\n                        Number of Volkswag...   \n",
       "\n",
       "                               Region  \n",
       "0                           Worldwide  \n",
       "1                       United States  \n",
       "2                       United States  \n",
       "3                       United States  \n",
       "4                              Europe  \n",
       "...                               ...  \n",
       "27863        Worldwide, North America  \n",
       "27864  United Kingdom (Great Britain)  \n",
       "27865              United Kingdom, EU  \n",
       "27866                   United States  \n",
       "27867  United Kingdom (Great Britain)  \n",
       "\n",
       "[27868 rows x 2 columns]"
      ]
     },
     "execution_count": 1,
     "metadata": {},
     "output_type": "execute_result"
    }
   ],
   "source": [
    "import pandas as pd\n",
    "sta_metadata_path = '../dataset/statista_dataset/metadata.csv'\n",
    "\n",
    "# Load the metadata from the Pew dataset\n",
    "sta_data = pd.read_csv(sta_metadata_path)\n",
    "# Drop all columns except 'title' and topic'\n",
    "sta_data = sta_data[['title', 'Region']]\n",
    "sta_data"
   ]
  },
  {
   "cell_type": "code",
   "execution_count": null,
   "metadata": {},
   "outputs": [],
   "source": []
  }
 ],
 "metadata": {
  "kernelspec": {
   "display_name": "sraEnv",
   "language": "python",
   "name": "python3"
  },
  "language_info": {
   "codemirror_mode": {
    "name": "ipython",
    "version": 3
   },
   "file_extension": ".py",
   "mimetype": "text/x-python",
   "name": "python",
   "nbconvert_exporter": "python",
   "pygments_lexer": "ipython3",
   "version": "3.10.12"
  }
 },
 "nbformat": 4,
 "nbformat_minor": 2
}
