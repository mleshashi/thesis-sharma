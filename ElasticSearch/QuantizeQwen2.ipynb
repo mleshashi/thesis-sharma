{
 "cells": [
  {
   "cell_type": "markdown",
   "metadata": {},
   "source": [
    "### **Testing Quantized Qwen2 Model and Computing Similarity Scores**\n",
    "\n",
    "#### **1. Loading Qwen2 Model with Quantization**\n",
    "- Uses `Alibaba-NLP/gte-Qwen2-7B-instruct` for embedding generation.\n",
    "- Enables `BitsAndBytesConfig` for efficient 4-bit quantization (`nf4`).\n",
    "- Automatically maps the model to available devices (`CUDA` or `CPU`).\n",
    "- Displays a message indicating that special tokens have been added to the vocabulary.\n",
    "\n",
    "#### **2. Downloading and Loading Model Checkpoints**\n",
    "- Downloads model checkpoint shards (7 parts).\n",
    "- Loads all shards into memory efficiently.\n",
    "\n",
    "#### **3. Printing Model Memory Usage**\n",
    "- Implements `print_model_memory_usage()` to calculate and display the total memory usage of the model.\n",
    "- Prints the model size in megabytes (`MB`), which is **5940.785 MB**.\n",
    "\n",
    "#### **4. Moving Model to Correct Device**\n",
    "- Checks if CUDA is available and assigns the appropriate device.\n",
    "- Confirms the model's device placement.\n",
    "\n",
    "#### **5. Defining Last Token Pooling**\n",
    "- Implements `last_token_pool()` to extract meaningful vector representations from hidden states.\n",
    "- Handles both left-padded and right-padded sequences.\n",
    "\n",
    "#### **6. Formatting Query Instructions**\n",
    "- Defines `get_detailed_instruct()` to structure query inputs in a standardized format.\n",
    "\n",
    "#### **7. Preparing Queries and Documents**\n",
    "- Defines a retrieval task: `\"Given a web search query, retrieve relevant passages that answer the query.\"`\n",
    "- Creates two example queries:\n",
    "  1. `\"how much protein should a female eat\"`\n",
    "  2. `\"summit define\"`\n",
    "- Provides corresponding documents for similarity comparison.\n",
    "\n",
    "#### **8. Defining Text Embedding Function**\n",
    "- Implements `embed_texts()`:\n",
    "  - Tokenizes and processes input text.\n",
    "  - Ensures inputs are moved to the correct device.\n",
    "  - Extracts last-token representations and normalizes embeddings.\n",
    "\n",
    "#### **9. Embedding Queries and Documents**\n",
    "- Generates embeddings separately for queries and documents using Qwen2.\n",
    "- Confirms that the tokenized inputs are correctly assigned to the appropriate device.\n",
    "\n",
    "#### **10. Computing Similarity Scores**\n",
    "- Computes cosine similarity scores between queries and documents.\n",
    "- Multiplies scores by **100** for better interpretability.\n",
    "- Example results:\n",
    "  - `\"how much protein should a female eat\"` → `\"protein intake recommendation\"` → **71.69**\n",
    "  - `\"summit define\"` → `\"definition of summit\"` → **82.69**\n",
    "- Displays computed similarity scores.\n",
    "\n",
    "#### **11. Checking Embedding Shape**\n",
    "- Prints the shape of `document_embeddings` (`torch.Size([2, 3584])`).\n"
   ]
  },
  {
   "cell_type": "code",
   "execution_count": 1,
   "metadata": {},
   "outputs": [
    {
     "name": "stderr",
     "output_type": "stream",
     "text": [
      "/home/mleshashi/thesis-sharma/sraEnv/lib/python3.10/site-packages/tqdm/auto.py:21: TqdmWarning: IProgress not found. Please update jupyter and ipywidgets. See https://ipywidgets.readthedocs.io/en/stable/user_install.html\n",
      "  from .autonotebook import tqdm as notebook_tqdm\n"
     ]
    }
   ],
   "source": [
    "import torch\n",
    "import torch.nn.functional as F\n",
    "import os\n",
    "from torch import Tensor\n",
    "from transformers import AutoTokenizer, AutoModel, BitsAndBytesConfig\n",
    "from dataProcessor import process_metadata, pew_metadata_path, statista_metadata_path\n",
    "import tqdm as notebook_tqdm"
   ]
  },
  {
   "cell_type": "code",
   "execution_count": 2,
   "metadata": {},
   "outputs": [],
   "source": [
    "# print the sample dataframe for the first 100 rows\n",
    "sample_df = process_metadata(pew_metadata_path, statista_metadata_path).head(100)"
   ]
  },
  {
   "cell_type": "code",
   "execution_count": 3,
   "metadata": {},
   "outputs": [],
   "source": [
    "# Define the quantization configuration\n",
    "quantization_config = BitsAndBytesConfig(\n",
    "    load_in_4bit=True,\n",
    "    bnb_4bit_quant_type=\"nf4\",\n",
    "    bnb_4bit_compute_dtype=torch.float16,\n",
    ")"
   ]
  },
  {
   "cell_type": "code",
   "execution_count": 5,
   "metadata": {},
   "outputs": [
    {
     "name": "stderr",
     "output_type": "stream",
     "text": [
      "Special tokens have been added in the vocabulary, make sure the associated word embeddings are fine-tuned or trained.\n",
      "Downloading shards: 100%|██████████| 7/7 [44:44<00:00, 383.44s/it]\n",
      "Loading checkpoint shards: 100%|██████████| 7/7 [00:12<00:00,  1.73s/it]\n"
     ]
    }
   ],
   "source": [
    "# Load the tokenizer and quantized model\n",
    "tokenizer = AutoTokenizer.from_pretrained('Alibaba-NLP/gte-Qwen2-7B-instruct', trust_remote_code=True)\n",
    "model = AutoModel.from_pretrained(\n",
    "    'Alibaba-NLP/gte-Qwen2-7B-instruct', trust_remote_code=True,\n",
    "    quantization_config=quantization_config,\n",
    "    device_map=\"auto\"\n",
    ")"
   ]
  },
  {
   "cell_type": "code",
   "execution_count": 6,
   "metadata": {},
   "outputs": [
    {
     "name": "stdout",
     "output_type": "stream",
     "text": [
      "Model size: 5940.785 MB\n"
     ]
    }
   ],
   "source": [
    "# Print model memory usage\n",
    "def print_model_memory_usage(model):\n",
    "    param_size = 0\n",
    "    for param in model.parameters():\n",
    "        param_size += param.nelement() * param.element_size()\n",
    "    buffer_size = 0\n",
    "    for buffer in model.buffers():\n",
    "        buffer_size += buffer.nelement() * buffer.element_size()\n",
    "    size_all_mb = (param_size + buffer_size) / 1024**2\n",
    "    print(f'Model size: {size_all_mb:.3f} MB')\n",
    "\n",
    "print_model_memory_usage(model)"
   ]
  },
  {
   "cell_type": "code",
   "execution_count": 7,
   "metadata": {},
   "outputs": [
    {
     "name": "stdout",
     "output_type": "stream",
     "text": [
      "Using device: cuda\n",
      "Model is on device: cuda:0\n",
      "Tokenized inputs are on device: cuda:0\n",
      "Tokenized inputs are on device: cuda:0\n",
      "Similarity scores are on device: cuda:0\n",
      "[[71.6875, 5.203125], [5.69921875, 82.6875]]\n"
     ]
    }
   ],
   "source": [
    "# Ensure inputs are moved to the correct device\n",
    "device = torch.device('cuda' if torch.cuda.is_available() else 'cpu')\n",
    "print(f\"Using device: {device}\")\n",
    "\n",
    "def last_token_pool(last_hidden_states: Tensor, attention_mask: Tensor) -> Tensor:\n",
    "    left_padding = (attention_mask[:, -1].sum() == attention_mask.shape[0])\n",
    "    if left_padding:\n",
    "        return last_hidden_states[:, -1]\n",
    "    else:\n",
    "        sequence_lengths = attention_mask.sum(dim=1) - 1\n",
    "        batch_size = last_hidden_states.shape[0]\n",
    "        return last_hidden_states[torch.arange(batch_size, device=last_hidden_states.device), sequence_lengths]\n",
    "\n",
    "def get_detailed_instruct(task_description: str, query: str) -> str:\n",
    "    return f'Instruct: {task_description}\\nQuery: {query}'\n",
    "\n",
    "# Move the model to the appropriate device if needed\n",
    "print(f\"Model is on device: {next(model.parameters()).device}\")\n",
    "\n",
    "# Prepare queries and documents\n",
    "task = 'Given a web search query, retrieve relevant passages that answer the query'\n",
    "queries = [\n",
    "    get_detailed_instruct(task, 'how much protein should a female eat'),\n",
    "    get_detailed_instruct(task, 'summit define')\n",
    "]\n",
    "documents = [\n",
    "    \"As a general guideline, the CDC's average requirement of protein for women ages 19 to 70 is 46 grams per day. But, as you can see from this chart, you'll need to increase that if you're expecting or training for a marathon. Check out the chart below to see how much protein you should be eating each day.\",\n",
    "    \"Definition of summit for English Language Learners. : 1  the highest point of a mountain : the top of a mountain. : 2  the highest level. : 3  a meeting or series of meetings between the leaders of two or more governments.\"\n",
    "]\n",
    "\n",
    "max_length = 1250\n",
    "\n",
    "# Function to embed texts\n",
    "def embed_texts(texts):\n",
    "    input_token = tokenizer(texts, max_length=max_length, padding=True, truncation=True, return_tensors='pt')\n",
    "    input_token = {k: v.to(device) for k, v in input_token.items()}\n",
    "    print(f\"Tokenized inputs are on device: {next(iter(input_token.values())).device}\")\n",
    "    outputs = model(**input_token)\n",
    "    embeddings = last_token_pool(outputs.last_hidden_state, input_token['attention_mask'])\n",
    "    embeddings = F.normalize(embeddings, p=2, dim=1)\n",
    "    return embeddings\n",
    "\n",
    "# Embed queries and documents separately\n",
    "query_embeddings = embed_texts(queries)\n",
    "document_embeddings = embed_texts(documents)\n",
    "\n",
    "# Compute similarity scores between queries and documents\n",
    "scores = (query_embeddings @ document_embeddings.T) * 100\n",
    "print(f\"Similarity scores are on device: {scores.device}\")\n",
    "print(scores.tolist())"
   ]
  },
  {
   "cell_type": "code",
   "execution_count": 8,
   "metadata": {},
   "outputs": [
    {
     "data": {
      "text/plain": [
       "torch.Size([2, 3584])"
      ]
     },
     "execution_count": 8,
     "metadata": {},
     "output_type": "execute_result"
    },
    {
     "ename": "",
     "evalue": "",
     "output_type": "error",
     "traceback": [
      "\u001b[1;31mThe Kernel crashed while executing code in the current cell or a previous cell. \n",
      "\u001b[1;31mPlease review the code in the cell(s) to identify a possible cause of the failure. \n",
      "\u001b[1;31mClick <a href='https://aka.ms/vscodeJupyterKernelCrash'>here</a> for more info. \n",
      "\u001b[1;31mView Jupyter <a href='command:jupyter.viewOutput'>log</a> for further details."
     ]
    }
   ],
   "source": [
    "document_embeddings.shape"
   ]
  },
  {
   "cell_type": "code",
   "execution_count": null,
   "metadata": {},
   "outputs": [],
   "source": []
  }
 ],
 "metadata": {
  "kernelspec": {
   "display_name": "sraEnv",
   "language": "python",
   "name": "python3"
  },
  "language_info": {
   "codemirror_mode": {
    "name": "ipython",
    "version": 3
   },
   "file_extension": ".py",
   "mimetype": "text/x-python",
   "name": "python",
   "nbconvert_exporter": "python",
   "pygments_lexer": "ipython3",
   "version": "3.10.12"
  }
 },
 "nbformat": 4,
 "nbformat_minor": 2
}
