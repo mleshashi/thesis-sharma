{
 "cells": [
  {
   "cell_type": "code",
   "execution_count": 10,
   "metadata": {},
   "outputs": [],
   "source": [
    "import torch\n",
    "from elasticsearch import Elasticsearch\n",
    "from sentence_transformers import SentenceTransformer\n",
    "import numpy as np\n",
    "import pandas as pd\n",
    "import hashlib\n",
    "from tqdm import tqdm\n",
    "import random"
   ]
  },
  {
   "cell_type": "code",
   "execution_count": 11,
   "metadata": {},
   "outputs": [],
   "source": [
    "# Initialize Elasticsearch client and model\n",
    "es = Elasticsearch([\"http://localhost:9200\"])\n",
    "model = SentenceTransformer(\"all-MiniLM-L6-v2\")\n",
    "index_name = \"documents\""
   ]
  },
  {
   "cell_type": "code",
   "execution_count": 3,
   "metadata": {},
   "outputs": [
    {
     "name": "stdout",
     "output_type": "stream",
     "text": [
      "Number of documents in the index: 29348\n"
     ]
    }
   ],
   "source": [
    "doc_count = es.count(index=index_name)['count']\n",
    "print(f\"Number of documents in the index: {doc_count}\")"
   ]
  },
  {
   "cell_type": "code",
   "execution_count": 4,
   "metadata": {},
   "outputs": [],
   "source": [
    "# Load topics from a CSV file (assuming the CSV has a column named 'Topic')\n",
    "topics_df= pd.read_csv('../dataset/TopRelevant_topics.csv')\n",
    "# Select a random topic\n",
    "random_topic = random.choice(topics_df['Topic'].to_list())"
   ]
  },
  {
   "cell_type": "code",
   "execution_count": 5,
   "metadata": {},
   "outputs": [
    {
     "data": {
      "text/plain": [
       "'Does lowering the federal corporate income tax rate create jobs?'"
      ]
     },
     "execution_count": 5,
     "metadata": {},
     "output_type": "execute_result"
    }
   ],
   "source": [
    "random_topic"
   ]
  },
  {
   "cell_type": "code",
   "execution_count": 6,
   "metadata": {},
   "outputs": [],
   "source": [
    "# Encode the selected topic to get its embedding\n",
    "topic_embedding = model.encode(random_topic).tolist()"
   ]
  },
  {
   "cell_type": "code",
   "execution_count": 7,
   "metadata": {},
   "outputs": [],
   "source": [
    "# Elasticsearch query to find relevant documents based on cosine similarity\n",
    "script_query = {\n",
    "    \"script_score\": {\n",
    "        \"query\": {\"match_all\": {}},\n",
    "        \"script\": {\n",
    "            \"source\": \"cosineSimilarity(params.query_vector, 'embedding') + 1.0\",\n",
    "            \"params\": {\"query_vector\": topic_embedding}\n",
    "        }\n",
    "    }\n",
    "}\n",
    "    \n",
    "# Execute the search query\n",
    "response = es.search(index=index_name, body={\n",
    "    \"size\": 3,  # Fetch top 5 relevant documents\n",
    "    \"query\": script_query,\n",
    "    \"_source\": [\"title\", \"content\"]  # Adjust fields based on your document structure\n",
    "})"
   ]
  },
  {
   "cell_type": "code",
   "execution_count": 21,
   "metadata": {},
   "outputs": [
    {
     "name": "stdout",
     "output_type": "stream",
     "text": [
      "Top 3 relevant documents for the topic 'Are social media platforms doing enough to prevent cyberbullying?':\n",
      "\n",
      "1. Title: a majority of teens have been the target of cyberbullying, with name-calling fand rumor-spreading being the most common forms of harassment % of U.S. teens who say they have experienced online or on their cellphone\n",
      "   Content: A majority of U.S. teens (59%) have experienced some form of cyberbullying. About four-in-ten teens ages 13 to 17 (42%) say they have been called offensive names online or on their cellphone, 32% say they have had false rumors spread about them and one-quarter report that they have received explicit images they didn’t ask for. At the same time, nine-in-ten teens say online harassment is a problem that affects their peers. And while a majority of teens think parents are doing a good job addressing the issue, they are critical of the way teachers, social media companies and politicians are tackling cyberbullying.\n",
      "   Score: 1.6866469\n",
      "\n",
      "2. Title: \n",
      "                        Level of bullying in online classes since the coronavirus (COVID-19) pandemic in Romania in 2020\n",
      "                    \n",
      "   Content:  Three quarters of respondents stated that cyberbullying was less frequent in their online classes during the COVID-19 pandemic in Romania, than it was in school. For further information about the coronavirus (COVID-19) pandemic, please visit our dedicated Facts and Figures page. \n",
      "   Score: 1.6530241\n",
      "\n",
      "3. Title: \n",
      "                        Knowledge of which types on online platforms are used to cyber bully children according to parents worldwide as of April 2018\n",
      "                    \n",
      "   Content:  This statistic shows the results by of a global survey about parental awareness of which digital platforms were used for cyber bullying. The April 2018 Ipsos survey showed that 65 percent of all responding parents were aware of social media as a platform for cyber bullying children. \n",
      "   Score: 1.6399524\n",
      "\n"
     ]
    }
   ],
   "source": [
    "# Extract and print the top 5 relevant documents\n",
    "print(f\"Top 3 relevant documents for the topic '{random_topic}':\\n\")\n",
    "\n",
    "for i, hit in enumerate(response['hits']['hits'], start=1):\n",
    "    doc = hit['_source']\n",
    "    print(f\"{i}. Title: {doc['title']}\\n   Content: {doc['content']}\\n   Score: {hit['_score']}\\n\")"
   ]
  },
  {
   "cell_type": "code",
   "execution_count": 25,
   "metadata": {},
   "outputs": [
    {
     "name": "stdout",
     "output_type": "stream",
     "text": [
      "Title: \n",
      "                        Boat ownership rate by household income in the U.S. in 2013\n",
      "                    \n",
      "Content:  The statistic depicts the boat ownership rate by household income in the U.S. in 2013. 9.4 percent of the respondents with an annual household income of greater than 100,000 U.S. dollars own a boat. \n"
     ]
    }
   ],
   "source": [
    "from elasticsearch import Elasticsearch\n",
    "import random\n",
    "\n",
    "es = Elasticsearch([\"http://localhost:9200\"])\n",
    "index_name = \"documents\"\n",
    "\n",
    "es.indices.put_settings(index=index_name, body={\n",
    "    \"index\": {\n",
    "        \"max_result_window\": 50000  # Increase this value cautiously\n",
    "    }\n",
    "})\n",
    "\n",
    "# First, get the count of all documents in the index\n",
    "count_response = es.count(index=index_name)\n",
    "total_docs = count_response['count']\n",
    "\n",
    "# Generate a random offset within the number of documents\n",
    "random_offset = random.randint(0, max(0, total_docs - 1))\n",
    "\n",
    "# Fetch one document at a random offset\n",
    "response = es.search(index=index_name, body={\n",
    "    \"size\": 1,\n",
    "    \"query\": {\"match_all\": {}},\n",
    "    \"from\": random_offset  # Use the random offset for pagination\n",
    "})\n",
    "\n",
    "# Extract and print the document if available\n",
    "if response['hits']['hits']:\n",
    "    doc = response['hits']['hits'][0]\n",
    "    print(f\"Title: {doc['_source']['title']}\")\n",
    "    print(f\"Content: {doc['_source']['content']}\")\n",
    "else:\n",
    "    print(\"No documents found.\")"
   ]
  },
  {
   "cell_type": "code",
   "execution_count": null,
   "metadata": {},
   "outputs": [],
   "source": []
  }
 ],
 "metadata": {
  "kernelspec": {
   "display_name": "sraEnv",
   "language": "python",
   "name": "python3"
  },
  "language_info": {
   "codemirror_mode": {
    "name": "ipython",
    "version": 3
   },
   "file_extension": ".py",
   "mimetype": "text/x-python",
   "name": "python",
   "nbconvert_exporter": "python",
   "pygments_lexer": "ipython3",
   "version": "3.10.12"
  }
 },
 "nbformat": 4,
 "nbformat_minor": 2
}
